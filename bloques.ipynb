{
 "cells": [
  {
   "cell_type": "code",
   "execution_count": 71,
   "metadata": {
    "dotnet_interactive": {
     "language": "fsharp"
    },
    "polyglot_notebook": {
     "kernelName": "fsharp"
    }
   },
   "outputs": [],
   "source": [
    "// dimensiones arena \n",
    "let anchoArena = 700.0\n",
    "let altoArena = 1200.0\n",
    "\n",
    "// distribución de los bloques\n",
    "let filasBloques = 8\n",
    "let columnasBloques = 14\n",
    "\n",
    "// anchura de cada bloque: 700/14 = 50, los 14 bloques ocupan todo el ancho de la arena\n",
    "let anchoBloque = 50.0\n",
    "\n",
    "// altura de cada bloque: (1200/8)/6 = 25, los 8 bloques ocupan una sexta parte de la altura de la arena\n",
    "let altoBloque = 25.0\n",
    "\n",
    "// los bloques eatan entre la altura 800 y la altura 1000; y = [800, 1000)\n",
    "let yInicial = 800.0\n",
    "let yFinal = 1000.0"
   ]
  },
  {
   "cell_type": "code",
   "execution_count": 72,
   "metadata": {
    "dotnet_interactive": {
     "language": "fsharp"
    },
    "polyglot_notebook": {
     "kernelName": "fsharp"
    }
   },
   "outputs": [],
   "source": [
    "// creamos la matriz de bloques\n",
    "let generarBloques (filas: int) (columnas: int) : bool[,] =\n",
    "    Array2D.create filas columnas true"
   ]
  },
  {
   "cell_type": "code",
   "execution_count": 73,
   "metadata": {
    "dotnet_interactive": {
     "language": "fsharp"
    },
    "polyglot_notebook": {
     "kernelName": "fsharp"
    }
   },
   "outputs": [
    {
     "name": "stdout",
     "output_type": "stream",
     "text": [
      "Bloques: [[true; true; true; true; true; true; true; true; true; true; true; true; true;\n",
      "  true]\n",
      " [true; true; true; true; true; true; true; true; true; true; true; true; true;\n",
      "  true]\n",
      " [true; true; true; true; true; true; true; true; true; true; true; true; true;\n",
      "  true]\n",
      " [true; true; true; true; true; true; true; true; true; true; true; true; true;\n",
      "  true]\n",
      " [true; true; true; true; true; true; true; true; true; true; true; true; true;\n",
      "  true]\n",
      " [true; true; true; true; true; true; true; true; true; true; true; true; true;\n",
      "  true]\n",
      " [true; true; true; true; true; true; true; true; true; true; true; true; true;\n",
      "  true]\n",
      " [true; true; true; true; true; true; true; true; true; true; true; true; true;\n",
      "  true]]\n"
     ]
    }
   ],
   "source": [
    "let testBloques = generarBloques filasBloques columnasBloques\n",
    "printfn \"Bloques: %A\" testBloques"
   ]
  },
  {
   "cell_type": "code",
   "execution_count": 74,
   "metadata": {
    "dotnet_interactive": {
     "language": "fsharp"
    },
    "polyglot_notebook": {
     "kernelName": "fsharp"
    }
   },
   "outputs": [],
   "source": [
    "// funcionnes para obtener los indices de un bloque a partir de un par de coordenadas (x,y)\n",
    "\n",
    "// verifica que las coordenadas esten dentro de la región donde existen bloques\n",
    "let validarCoordenadas (x: float) (y: float): bool =\n",
    "    x >= 0.0 && x < anchoArena && y >= yInicial && y < yFinal\n",
    "\n",
    "// obtiene los indices de un bloque a partir de un par de coordenadas (x,y)\n",
    "let obtenerIdxBloque (x: float) (y: float): int*int =\n",
    "    let indiceFila = int ((y - yInicial) / altoBloque)\n",
    "    let indiceColumna = int (x / anchoBloque)\n",
    "    (indiceFila, indiceColumna)\n",
    "\n",
    "\n",
    "let testCoordenadas (x: float) (y: float): unit =\n",
    "    match validarCoordenadas x y with\n",
    "    | false -> printfn \"No hay bloques en estas coordenadas\"\n",
    "    | true ->\n",
    "        let (fila, columna) = obtenerIdxBloque x y\n",
    "        if fila >= 0 && fila < filasBloques && columna >= 0 && columna < columnasBloques then\n",
    "            printfn $\"Las coordenadas corresponden al bloque ({fila}, {columna})\"\n",
    "        else\n",
    "            printfn \"Los indices obtenidos estan fuera de rango\"      "
   ]
  },
  {
   "cell_type": "code",
   "execution_count": 75,
   "metadata": {
    "dotnet_interactive": {
     "language": "fsharp"
    },
    "polyglot_notebook": {
     "kernelName": "fsharp"
    }
   },
   "outputs": [
    {
     "name": "stdout",
     "output_type": "stream",
     "text": [
      "Las coordenadas corresponden al bloque (0, 0)\n",
      "No hay bloques en estas coordenadas\n",
      "Las coordenadas corresponden al bloque (7, 0)\n",
      "No hay bloques en estas coordenadas\n",
      "Las coordenadas corresponden al bloque (0, 13)\n",
      "No hay bloques en estas coordenadas\n",
      "Las coordenadas corresponden al bloque (7, 13)\n"
     ]
    }
   ],
   "source": [
    "testCoordenadas 0.0 800.0\n",
    "testCoordenadas 0.0 1000.0\n",
    "testCoordenadas 0.0 999.999\n",
    "testCoordenadas 700.0 999.999\n",
    "testCoordenadas 699.999 800.0\n",
    "testCoordenadas 699.999 1000.0\n",
    "testCoordenadas 699.999 999.999"
   ]
  },
  {
   "cell_type": "code",
   "execution_count": 76,
   "metadata": {
    "dotnet_interactive": {
     "language": "fsharp"
    },
    "polyglot_notebook": {
     "kernelName": "fsharp"
    }
   },
   "outputs": [],
   "source": [
    "// funciones para el evento de colisión con un bloque\n",
    "\n",
    "// verifica si hay un bloque en las coordenadas (x,y)\n",
    "let hayBloque (x: float) (y: float) (bloques: bool[,]) : bool =\n",
    "    match validarCoordenadas x y with\n",
    "    | false -> false\n",
    "    | true ->\n",
    "        let (indiceFila, indiceColumna) = obtenerIdxBloque x y\n",
    "        bloques.[indiceFila, indiceColumna]\n",
    "\n",
    "\n",
    "let testHayBloque (x: float) (y: float) (bloques: bool[,]) : unit =\n",
    "    match hayBloque x y bloques with\n",
    "    | true -> printfn \"Hay un bloque en las coordenadas x=%f, y=%f\" x y\n",
    "    | false -> printfn \"No hay un bloque en las coordenadas x=%f, y=%f\" x y\n",
    "\n",
    "\n",
    "// cambia el estado de un bloque a false\n",
    "let desactivarBloque (x: int) (y: int) (bloques: bool[,]) : unit =\n",
    "    bloques.[x, y] <- false\n",
    "\n",
    "\n",
    "let colisionConBloque (x: float) (y: float) (bloques: bool[,]) : unit =\n",
    "    match hayBloque x y bloques with\n",
    "    | false -> ()\n",
    "    | true ->\n",
    "        let (indiceFila, indiceColumna) = obtenerIdxBloque x y\n",
    "        desactivarBloque indiceFila indiceColumna bloques           "
   ]
  },
  {
   "cell_type": "code",
   "execution_count": 77,
   "metadata": {
    "dotnet_interactive": {
     "language": "fsharp"
    },
    "polyglot_notebook": {
     "kernelName": "fsharp"
    }
   },
   "outputs": [
    {
     "name": "stdout",
     "output_type": "stream",
     "text": [
      "Las coordenadas x=0, y=800 corresponden al bloque (0, 0)\n",
      "Bloques antes de la colision:\n",
      "[[true; true; true; true; true; true; true; true; true; true; true; true; true;\n",
      "  true]\n",
      " [true; true; true; true; true; true; true; true; true; true; true; true; true;\n",
      "  true]\n",
      " [true; true; true; true; true; true; true; true; true; true; true; true; true;\n",
      "  true]\n",
      " [true; true; true; true; true; true; true; true; true; true; true; true; true;\n",
      "  true]\n",
      " [true; true; true; true; true; true; true; true; true; true; true; true; true;\n",
      "  true]\n",
      " [true; true; true; true; true; true; true; true; true; true; true; true; true;\n",
      "  true]\n",
      " [true; true; true; true; true; true; true; true; true; true; true; true; true;\n",
      "  true]\n",
      " [true; true; true; true; true; true; true; true; true; true; true; true; true;\n",
      "  true]]\n",
      "Hay un bloque en las coordenadas x=0.000000, y=800.000000\n",
      "Bloques despues de la colision:\n",
      "[[false; true; true; true; true; true; true; true; true; true; true; true; true;\n",
      "  true]\n",
      " [true; true; true; true; true; true; true; true; true; true; true; true; true;\n",
      "  true]\n",
      " [true; true; true; true; true; true; true; true; true; true; true; true; true;\n",
      "  true]\n",
      " [true; true; true; true; true; true; true; true; true; true; true; true; true;\n",
      "  true]\n",
      " [true; true; true; true; true; true; true; true; true; true; true; true; true;\n",
      "  true]\n",
      " [true; true; true; true; true; true; true; true; true; true; true; true; true;\n",
      "  true]\n",
      " [true; true; true; true; true; true; true; true; true; true; true; true; true;\n",
      "  true]\n",
      " [true; true; true; true; true; true; true; true; true; true; true; true; true;\n",
      "  true]]\n",
      "No hay un bloque en las coordenadas x=0.000000, y=800.000000\n"
     ]
    }
   ],
   "source": [
    "let testX = 0.0\n",
    "let testY = 800.0\n",
    "let testBloques: bool[,] = Array2D.create filasBloques columnasBloques true\n",
    "let (idxFila, idxColumna) = obtenerIdxBloque testX testY\n",
    "\n",
    "printfn $\"Las coordenadas x={testX}, y={testY} corresponden al bloque ({idxFila}, {idxColumna})\"\n",
    "printfn \"Bloques antes de la colision:\"\n",
    "printfn \"%A\" testBloques\n",
    "testHayBloque testX testY testBloques\n",
    "colisionConBloque testX testY testBloques\n",
    "printfn \"Bloques despues de la colision:\"\n",
    "printfn \"%A\" testBloques\n",
    "testHayBloque testX testY testBloques"
   ]
  },
  {
   "cell_type": "code",
   "execution_count": 78,
   "metadata": {
    "dotnet_interactive": {
     "language": "fsharp"
    },
    "polyglot_notebook": {
     "kernelName": "fsharp"
    }
   },
   "outputs": [],
   "source": []
  }
 ],
 "metadata": {
  "kernelspec": {
   "display_name": ".NET (F#)",
   "language": "F#",
   "name": ".net-fsharp"
  },
  "language_info": {
   "name": "polyglot-notebook"
  },
  "polyglot_notebook": {
   "kernelInfo": {
    "defaultKernelName": "fsharp",
    "items": [
     {
      "aliases": [],
      "languageName": "fsharp",
      "name": "fsharp"
     }
    ]
   }
  }
 },
 "nbformat": 4,
 "nbformat_minor": 2
}
