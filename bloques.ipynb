{
 "cells": [
  {
   "cell_type": "code",
   "execution_count": 58,
   "metadata": {
    "dotnet_interactive": {
     "language": "fsharp"
    },
    "polyglot_notebook": {
     "kernelName": "fsharp"
    }
   },
   "outputs": [],
   "source": [
    "// dimensiones arena \n",
    "let anchoArena = 700.0\n",
    "let altoArena = 1200.0\n",
    "\n",
    "// distribución de los bloques\n",
    "let filasBloques = 8\n",
    "let columnasBloques = 14\n",
    "\n",
    "// anchura de cada bloque: 700/14 = 50, los 14 bloques ocupan todo el ancho de la arena\n",
    "let LX = 50.0\n",
    "\n",
    "// altura de cada bloque: (1200/8)/6 = 25, los 8 bloques ocupan una sexta parte de la altura de la arena\n",
    "let LY = 25.0\n",
    "\n",
    "// los bloques estan entre la altura 800 y la altura 1000; limite inferior inclusivo, limite superior exclusivo [800, 1000)\n",
    "let yInicial = 800.0\n",
    "let yFinal = 1000.0"
   ]
  },
  {
   "cell_type": "code",
   "execution_count": 59,
   "metadata": {
    "dotnet_interactive": {
     "language": "fsharp"
    },
    "polyglot_notebook": {
     "kernelName": "fsharp"
    }
   },
   "outputs": [],
   "source": [
    "type Bloques =\n",
    "    {\n",
    "        Estado: Map<int*int, bool>\n",
    "    }\n",
    "\n",
    "\n",
    "// se almacena el estado de los bloques en un mapa cuyas claves son los indices (fila, columna) de cada bloque\n",
    "// y cuyos valores son un booleano que indica si el bloque esta activo o no \n",
    "let inicializarBloques (filas: int) (columnas: int) : Bloques =\n",
    "    let indices = [for x in 0 .. filas - 1 do for y in 0 .. columnas - 1 -> (x, y)]\n",
    "    let estado = indices |> List.map (fun (x, y) -> ((x, y), true)) |> Map.ofList\n",
    "    { Estado = estado }\n",
    "    "
   ]
  },
  {
   "cell_type": "code",
   "execution_count": 60,
   "metadata": {
    "dotnet_interactive": {
     "language": "fsharp"
    },
    "polyglot_notebook": {
     "kernelName": "fsharp"
    }
   },
   "outputs": [],
   "source": [
    "// verifica que las coordenadas esten dentro de la región donde existen bloques\n",
    "let validarCoordenadas (x: float) (y: float): bool =\n",
    "    x >= 0.0 && x < anchoArena && y >= yInicial && y < yFinal\n",
    "\n",
    "// A partir de las coordenadas (x,y) de la bolita, devuelve los indices del unico bloque con el cual la bolita podria colisionar\n",
    "let obtenerIdxBloque (x: float) (y: float): int*int =\n",
    "    let indiceFila = int ((y - yInicial) / LY)\n",
    "    let indiceColumna = int (x / LX)\n",
    "    (indiceFila, indiceColumna)\n",
    "\n",
    "// obtiene las coordenadas de la esquina inferior izquierda del bloque a partir de sus indices\n",
    "let obtenerCoordenadas (fila: int) (columna: int): float*float =\n",
    "    let x = (float columna) * LX\n",
    "    let y = yInicial + (float fila) * LY\n",
    "    (x, y)\n",
    "\n",
    "let testIdentificarBloque (x: float) (y: float): unit =\n",
    "    match validarCoordenadas x y with\n",
    "    | false -> printfn \"No hay bloques en estas coordenadas\"\n",
    "    | true ->\n",
    "        let (fila, columna) = obtenerIdxBloque x y\n",
    "        if fila >= 0 && fila < filasBloques && columna >= 0 && columna < columnasBloques then\n",
    "            printfn $\"Las coordenadas corresponden al bloque ({fila}, {columna})\"\n",
    "        else\n",
    "            printfn \"Los indices obtenidos estan fuera de rango\"\n",
    "\n",
    "let testObtenerCoordenadas  (filasBloques) (columnasBloques) =\n",
    "    let indices = [for x in 0 .. filasBloques - 1 do for y in 0 .. columnasBloques - 1 -> (x, y)]\n",
    "    indices \n",
    "    |> List.map (fun t -> (t, obtenerCoordenadas (fst t) (snd t)))\n",
    "    |> List.iter (fun (t1, t2) -> printfn $\"El bloque {t1}, tiene su esquina inferior izquierda en x={fst t2}, y={snd t2}\")   "
   ]
  },
  {
   "cell_type": "code",
   "execution_count": 61,
   "metadata": {
    "dotnet_interactive": {
     "language": "fsharp"
    },
    "polyglot_notebook": {
     "kernelName": "fsharp"
    }
   },
   "outputs": [
    {
     "name": "stdout",
     "output_type": "stream",
     "text": [
      "Las coordenadas corresponden al bloque (0, 0)\n",
      "No hay bloques en estas coordenadas\n",
      "Las coordenadas corresponden al bloque (7, 0)\n",
      "No hay bloques en estas coordenadas\n",
      "Las coordenadas corresponden al bloque (0, 13)\n",
      "No hay bloques en estas coordenadas\n",
      "Las coordenadas corresponden al bloque (7, 13)\n"
     ]
    }
   ],
   "source": [
    "testIdentificarBloque 0.0 800.0\n",
    "testIdentificarBloque 0.0 1000.0\n",
    "testIdentificarBloque 0.0 999.999\n",
    "testIdentificarBloque 700.0 999.999\n",
    "testIdentificarBloque 699.999 800.0\n",
    "testIdentificarBloque 699.999 1000.0\n",
    "testIdentificarBloque 699.999 999.999"
   ]
  },
  {
   "cell_type": "code",
   "execution_count": 62,
   "metadata": {
    "dotnet_interactive": {
     "language": "fsharp"
    },
    "polyglot_notebook": {
     "kernelName": "fsharp"
    }
   },
   "outputs": [
    {
     "name": "stdout",
     "output_type": "stream",
     "text": [
      "El bloque (0, 0), tiene su esquina inferior izquierda en x=0, y=800\n",
      "El bloque (0, 1), tiene su esquina inferior izquierda en x=50, y=800\n",
      "El bloque (0, 2), tiene su esquina inferior izquierda en x=100, y=800\n",
      "El bloque (0, 3), tiene su esquina inferior izquierda en x=150, y=800\n",
      "El bloque (0, 4), tiene su esquina inferior izquierda en x=200, y=800\n",
      "El bloque (0, 5), tiene su esquina inferior izquierda en x=250, y=800\n",
      "El bloque (0, 6), tiene su esquina inferior izquierda en x=300, y=800\n",
      "El bloque (0, 7), tiene su esquina inferior izquierda en x=350, y=800\n",
      "El bloque (0, 8), tiene su esquina inferior izquierda en x=400, y=800\n",
      "El bloque (0, 9), tiene su esquina inferior izquierda en x=450, y=800\n",
      "El bloque (0, 10), tiene su esquina inferior izquierda en x=500, y=800\n",
      "El bloque (0, 11), tiene su esquina inferior izquierda en x=550, y=800\n",
      "El bloque (0, 12), tiene su esquina inferior izquierda en x=600, y=800\n",
      "El bloque (0, 13), tiene su esquina inferior izquierda en x=650, y=800\n",
      "El bloque (1, 0), tiene su esquina inferior izquierda en x=0, y=825\n",
      "El bloque (1, 1), tiene su esquina inferior izquierda en x=50, y=825\n",
      "El bloque (1, 2), tiene su esquina inferior izquierda en x=100, y=825\n",
      "El bloque (1, 3), tiene su esquina inferior izquierda en x=150, y=825\n",
      "El bloque (1, 4), tiene su esquina inferior izquierda en x=200, y=825\n",
      "El bloque (1, 5), tiene su esquina inferior izquierda en x=250, y=825\n",
      "El bloque (1, 6), tiene su esquina inferior izquierda en x=300, y=825\n",
      "El bloque (1, 7), tiene su esquina inferior izquierda en x=350, y=825\n",
      "El bloque (1, 8), tiene su esquina inferior izquierda en x=400, y=825\n",
      "El bloque (1, 9), tiene su esquina inferior izquierda en x=450, y=825\n",
      "El bloque (1, 10), tiene su esquina inferior izquierda en x=500, y=825\n",
      "El bloque (1, 11), tiene su esquina inferior izquierda en x=550, y=825\n",
      "El bloque (1, 12), tiene su esquina inferior izquierda en x=600, y=825\n",
      "El bloque (1, 13), tiene su esquina inferior izquierda en x=650, y=825\n",
      "El bloque (2, 0), tiene su esquina inferior izquierda en x=0, y=850\n",
      "El bloque (2, 1), tiene su esquina inferior izquierda en x=50, y=850\n",
      "El bloque (2, 2), tiene su esquina inferior izquierda en x=100, y=850\n",
      "El bloque (2, 3), tiene su esquina inferior izquierda en x=150, y=850\n",
      "El bloque (2, 4), tiene su esquina inferior izquierda en x=200, y=850\n",
      "El bloque (2, 5), tiene su esquina inferior izquierda en x=250, y=850\n",
      "El bloque (2, 6), tiene su esquina inferior izquierda en x=300, y=850\n",
      "El bloque (2, 7), tiene su esquina inferior izquierda en x=350, y=850\n",
      "El bloque (2, 8), tiene su esquina inferior izquierda en x=400, y=850\n",
      "El bloque (2, 9), tiene su esquina inferior izquierda en x=450, y=850\n",
      "El bloque (2, 10), tiene su esquina inferior izquierda en x=500, y=850\n",
      "El bloque (2, 11), tiene su esquina inferior izquierda en x=550, y=850\n",
      "El bloque (2, 12), tiene su esquina inferior izquierda en x=600, y=850\n",
      "El bloque (2, 13), tiene su esquina inferior izquierda en x=650, y=850\n",
      "El bloque (3, 0), tiene su esquina inferior izquierda en x=0, y=875\n",
      "El bloque (3, 1), tiene su esquina inferior izquierda en x=50, y=875\n",
      "El bloque (3, 2), tiene su esquina inferior izquierda en x=100, y=875\n",
      "El bloque (3, 3), tiene su esquina inferior izquierda en x=150, y=875\n",
      "El bloque (3, 4), tiene su esquina inferior izquierda en x=200, y=875\n",
      "El bloque (3, 5), tiene su esquina inferior izquierda en x=250, y=875\n",
      "El bloque (3, 6), tiene su esquina inferior izquierda en x=300, y=875\n",
      "El bloque (3, 7), tiene su esquina inferior izquierda en x=350, y=875\n",
      "El bloque (3, 8), tiene su esquina inferior izquierda en x=400, y=875\n",
      "El bloque (3, 9), tiene su esquina inferior izquierda en x=450, y=875\n",
      "El bloque (3, 10), tiene su esquina inferior izquierda en x=500, y=875\n",
      "El bloque (3, 11), tiene su esquina inferior izquierda en x=550, y=875\n",
      "El bloque (3, 12), tiene su esquina inferior izquierda en x=600, y=875\n",
      "El bloque (3, 13), tiene su esquina inferior izquierda en x=650, y=875\n",
      "El bloque (4, 0), tiene su esquina inferior izquierda en x=0, y=900\n",
      "El bloque (4, 1), tiene su esquina inferior izquierda en x=50, y=900\n",
      "El bloque (4, 2), tiene su esquina inferior izquierda en x=100, y=900\n",
      "El bloque (4, 3), tiene su esquina inferior izquierda en x=150, y=900\n",
      "El bloque (4, 4), tiene su esquina inferior izquierda en x=200, y=900\n",
      "El bloque (4, 5), tiene su esquina inferior izquierda en x=250, y=900\n",
      "El bloque (4, 6), tiene su esquina inferior izquierda en x=300, y=900\n",
      "El bloque (4, 7), tiene su esquina inferior izquierda en x=350, y=900\n",
      "El bloque (4, 8), tiene su esquina inferior izquierda en x=400, y=900\n",
      "El bloque (4, 9), tiene su esquina inferior izquierda en x=450, y=900\n",
      "El bloque (4, 10), tiene su esquina inferior izquierda en x=500, y=900\n",
      "El bloque (4, 11), tiene su esquina inferior izquierda en x=550, y=900\n",
      "El bloque (4, 12), tiene su esquina inferior izquierda en x=600, y=900\n",
      "El bloque (4, 13), tiene su esquina inferior izquierda en x=650, y=900\n",
      "El bloque (5, 0), tiene su esquina inferior izquierda en x=0, y=925\n",
      "El bloque (5, 1), tiene su esquina inferior izquierda en x=50, y=925\n",
      "El bloque (5, 2), tiene su esquina inferior izquierda en x=100, y=925\n",
      "El bloque (5, 3), tiene su esquina inferior izquierda en x=150, y=925\n",
      "El bloque (5, 4), tiene su esquina inferior izquierda en x=200, y=925\n",
      "El bloque (5, 5), tiene su esquina inferior izquierda en x=250, y=925\n",
      "El bloque (5, 6), tiene su esquina inferior izquierda en x=300, y=925\n",
      "El bloque (5, 7), tiene su esquina inferior izquierda en x=350, y=925\n",
      "El bloque (5, 8), tiene su esquina inferior izquierda en x=400, y=925\n",
      "El bloque (5, 9), tiene su esquina inferior izquierda en x=450, y=925\n",
      "El bloque (5, 10), tiene su esquina inferior izquierda en x=500, y=925\n",
      "El bloque (5, 11), tiene su esquina inferior izquierda en x=550, y=925\n",
      "El bloque (5, 12), tiene su esquina inferior izquierda en x=600, y=925\n",
      "El bloque (5, 13), tiene su esquina inferior izquierda en x=650, y=925\n",
      "El bloque (6, 0), tiene su esquina inferior izquierda en x=0, y=950\n",
      "El bloque (6, 1), tiene su esquina inferior izquierda en x=50, y=950\n",
      "El bloque (6, 2), tiene su esquina inferior izquierda en x=100, y=950\n",
      "El bloque (6, 3), tiene su esquina inferior izquierda en x=150, y=950\n",
      "El bloque (6, 4), tiene su esquina inferior izquierda en x=200, y=950\n",
      "El bloque (6, 5), tiene su esquina inferior izquierda en x=250, y=950\n",
      "El bloque (6, 6), tiene su esquina inferior izquierda en x=300, y=950\n",
      "El bloque (6, 7), tiene su esquina inferior izquierda en x=350, y=950\n",
      "El bloque (6, 8), tiene su esquina inferior izquierda en x=400, y=950\n",
      "El bloque (6, 9), tiene su esquina inferior izquierda en x=450, y=950\n",
      "El bloque (6, 10), tiene su esquina inferior izquierda en x=500, y=950\n",
      "El bloque (6, 11), tiene su esquina inferior izquierda en x=550, y=950\n",
      "El bloque (6, 12), tiene su esquina inferior izquierda en x=600, y=950\n",
      "El bloque (6, 13), tiene su esquina inferior izquierda en x=650, y=950\n",
      "El bloque (7, 0), tiene su esquina inferior izquierda en x=0, y=975\n",
      "El bloque (7, 1), tiene su esquina inferior izquierda en x=50, y=975\n",
      "El bloque (7, 2), tiene su esquina inferior izquierda en x=100, y=975\n",
      "El bloque (7, 3), tiene su esquina inferior izquierda en x=150, y=975\n",
      "El bloque (7, 4), tiene su esquina inferior izquierda en x=200, y=975\n",
      "El bloque (7, 5), tiene su esquina inferior izquierda en x=250, y=975\n",
      "El bloque (7, 6), tiene su esquina inferior izquierda en x=300, y=975\n",
      "El bloque (7, 7), tiene su esquina inferior izquierda en x=350, y=975\n",
      "El bloque (7, 8), tiene su esquina inferior izquierda en x=400, y=975\n",
      "El bloque (7, 9), tiene su esquina inferior izquierda en x=450, y=975\n",
      "El bloque (7, 10), tiene su esquina inferior izquierda en x=500, y=975\n",
      "El bloque (7, 11), tiene su esquina inferior izquierda en x=550, y=975\n",
      "El bloque (7, 12), tiene su esquina inferior izquierda en x=600, y=975\n",
      "El bloque (7, 13), tiene su esquina inferior izquierda en x=650, y=975\n"
     ]
    }
   ],
   "source": [
    "testObtenerCoordenadas 8 14"
   ]
  },
  {
   "cell_type": "code",
   "execution_count": 63,
   "metadata": {
    "dotnet_interactive": {
     "language": "fsharp"
    },
    "polyglot_notebook": {
     "kernelName": "fsharp"
    }
   },
   "outputs": [],
   "source": [
    "// funciones para el evento de colisión con un bloque\n",
    "\n",
    "// verifica si hay un bloque activo en las coordenadas (x,y)\n",
    "let hayBloque (x: float) (y: float) (bloques: Bloques) : bool =\n",
    "    match validarCoordenadas x y with\n",
    "    | false -> false\n",
    "    | true ->\n",
    "        let (indiceFila, indiceColumna) = obtenerIdxBloque x y\n",
    "        let estado = bloques.Estado |> Map.find (indiceFila, indiceColumna)\n",
    "        estado\n",
    "\n",
    "\n",
    "let testHayBloque (x: float) (y: float) (bloques: Bloques) : unit =\n",
    "    match hayBloque x y bloques with\n",
    "    | true -> printfn \"Hay un bloque en las coordenadas x=%f, y=%f\" x y\n",
    "    | false -> printfn \"No hay un bloque en las coordenadas x=%f, y=%f\" x y\n",
    "\n",
    "\n",
    "// cambia el estado de un bloque a false\n",
    "let desactivarBloque (fila: int) (columna: int) (bloques: Bloques) : Bloques=\n",
    "    let nuevoEstado = bloques.Estado |> Map.add (fila, columna) false\n",
    "    { bloques with Estado = nuevoEstado}\n",
    "\n",
    "\n",
    "let colisionConBloque (x: float) (y: float) (bloques: Bloques) : Bloques =\n",
    "    match hayBloque x y bloques with\n",
    "    | false -> bloques\n",
    "    | true ->\n",
    "        let (indiceFila, indiceColumna) = obtenerIdxBloque x y\n",
    "        let nuevosBloques = desactivarBloque indiceFila indiceColumna bloques\n",
    "        nuevosBloques        "
   ]
  },
  {
   "cell_type": "code",
   "execution_count": 64,
   "metadata": {
    "dotnet_interactive": {
     "language": "fsharp"
    },
    "polyglot_notebook": {
     "kernelName": "fsharp"
    }
   },
   "outputs": [
    {
     "name": "stdout",
     "output_type": "stream",
     "text": [
      "Las coordenadas x=0, y=800 corresponden al bloque (0, 0)\n",
      "Bloques antes de la colision:\n",
      "{ Estado =\n",
      "   map\n",
      "     [((0, 0), true); ((0, 1), true); ((0, 2), true); ((0, 3), true);\n",
      "      ((0, 4), true); ((0, 5), true); ((0, 6), true); ((0, 7), true);\n",
      "      ((0, 8), true); ...] }\n",
      "Hay un bloque en las coordenadas x=0.000000, y=800.000000\n",
      "Bloques despues de la colision:\n",
      "{ Estado =\n",
      "   map\n",
      "     [((0, 0), false); ((0, 1), true); ((0, 2), true); ((0, 3), true);\n",
      "      ((0, 4), true); ((0, 5), true); ((0, 6), true); ((0, 7), true);\n",
      "      ((0, 8), true); ...] }\n",
      "No hay un bloque en las coordenadas x=0.000000, y=800.000000\n"
     ]
    }
   ],
   "source": [
    "let testX = 0.0\n",
    "let testY = 800.0\n",
    "let testBloques = inicializarBloques filasBloques columnasBloques\n",
    "let (idxFila, idxColumna) = obtenerIdxBloque testX testY\n",
    "\n",
    "printfn $\"Las coordenadas x={testX}, y={testY} corresponden al bloque ({idxFila}, {idxColumna})\"\n",
    "printfn \"Bloques antes de la colision:\"\n",
    "printfn \"%A\" testBloques\n",
    "testHayBloque testX testY testBloques\n",
    "let newBloques = colisionConBloque testX testY testBloques\n",
    "printfn \"Bloques despues de la colision:\"\n",
    "printfn \"%A\" newBloques\n",
    "testHayBloque testX testY newBloques"
   ]
  },
  {
   "cell_type": "code",
   "execution_count": 48,
   "metadata": {
    "dotnet_interactive": {
     "language": "fsharp"
    },
    "polyglot_notebook": {
     "kernelName": "fsharp"
    }
   },
   "outputs": [
    {
     "ename": "Error",
     "evalue": "input.fsx (5,25)-(5,31) typecheck error The namespace or module 'bolita' is not defined.\ninput.fsx (6,34)-(6,41) typecheck error The value, namespace, type or module 'Bloques' is not defined.\ninput.fsx (7,36)-(7,44) typecheck error Lookup on object of indeterminate type based on information prior to this program point. A type annotation may be needed prior to this program point to constrain the type of the object. This may allow the lookup to be resolved.\ninput.fsx (7,68)-(7,75) typecheck error The value, namespace, type or module 'Bloques' is not defined. Maybe you want one of the following:\r\n   bloque_x\r\n   bloque_y\ninput.fsx (7,81)-(7,89) typecheck error Lookup on object of indeterminate type based on information prior to this program point. A type annotation may be needed prior to this program point to constrain the type of the object. This may allow the lookup to be resolved.\ninput.fsx (7,91)-(7,99) typecheck error Lookup on object of indeterminate type based on information prior to this program point. A type annotation may be needed prior to this program point to constrain the type of the object. This may allow the lookup to be resolved.\ninput.fsx (7,123)-(7,130) typecheck error The value, namespace, type or module 'Bloques' is not defined. Maybe you want one of the following:\r\n   bloque_x\r\n   bloque_y\ninput.fsx (7,136)-(7,144) typecheck error Lookup on object of indeterminate type based on information prior to this program point. A type annotation may be needed prior to this program point to constrain the type of the object. This may allow the lookup to be resolved.\ninput.fsx (9,21)-(9,29) typecheck error Lookup on object of indeterminate type based on information prior to this program point. A type annotation may be needed prior to this program point to constrain the type of the object. This may allow the lookup to be resolved.\ninput.fsx (9,64)-(9,70) typecheck error The value, namespace, type or module 'Bloque' is not defined. Maybe you want one of the following:\r\n   bloque_x\r\n   bloque_y\r\n   hayBloque\r\n   newBloques\ninput.fsx (9,75)-(9,83) typecheck error Lookup on object of indeterminate type based on information prior to this program point. A type annotation may be needed prior to this program point to constrain the type of the object. This may allow the lookup to be resolved.",
     "output_type": "error",
     "traceback": [
      "input.fsx (5,25)-(5,31) typecheck error The namespace or module 'bolita' is not defined.\n",
      "input.fsx (6,34)-(6,41) typecheck error The value, namespace, type or module 'Bloques' is not defined.\n",
      "input.fsx (7,36)-(7,44) typecheck error Lookup on object of indeterminate type based on information prior to this program point. A type annotation may be needed prior to this program point to constrain the type of the object. This may allow the lookup to be resolved.\n",
      "input.fsx (7,68)-(7,75) typecheck error The value, namespace, type or module 'Bloques' is not defined. Maybe you want one of the following:\r\n",
      "   bloque_x\r\n",
      "   bloque_y\n",
      "input.fsx (7,81)-(7,89) typecheck error Lookup on object of indeterminate type based on information prior to this program point. A type annotation may be needed prior to this program point to constrain the type of the object. This may allow the lookup to be resolved.\n",
      "input.fsx (7,91)-(7,99) typecheck error Lookup on object of indeterminate type based on information prior to this program point. A type annotation may be needed prior to this program point to constrain the type of the object. This may allow the lookup to be resolved.\n",
      "input.fsx (7,123)-(7,130) typecheck error The value, namespace, type or module 'Bloques' is not defined. Maybe you want one of the following:\r\n",
      "   bloque_x\r\n",
      "   bloque_y\n",
      "input.fsx (7,136)-(7,144) typecheck error Lookup on object of indeterminate type based on information prior to this program point. A type annotation may be needed prior to this program point to constrain the type of the object. This may allow the lookup to be resolved.\n",
      "input.fsx (9,21)-(9,29) typecheck error Lookup on object of indeterminate type based on information prior to this program point. A type annotation may be needed prior to this program point to constrain the type of the object. This may allow the lookup to be resolved.\n",
      "input.fsx (9,64)-(9,70) typecheck error The value, namespace, type or module 'Bloque' is not defined. Maybe you want one of the following:\r\n",
      "   bloque_x\r\n",
      "   bloque_y\r\n",
      "   hayBloque\r\n",
      "   newBloques\n",
      "input.fsx (9,75)-(9,83) typecheck error Lookup on object of indeterminate type based on information prior to this program point. A type annotation may be needed prior to this program point to constrain the type of the object. This may allow the lookup to be resolved."
     ]
    }
   ],
   "source": [
    "type Choque_con_bloque = \n",
    "        | Vertical\n",
    "        | Horizontal\n",
    "\n",
    "let Tipo_choque (bolita:bolita.Bolita) (fila: int) (columna: int) =\n",
    "        let bloque_x, bloque_y = Bloques.obtenerCoordenadas fila columna\n",
    "        let distancias_a_bloque = [bolita.y - bloque_y; bloque_y + Bloques.LY - bolita.y; bolita.x - bloque_x; bloque_x + Bloques.LX - bolita.x]\n",
    "        let minimo = List.min distancias_a_bloque\n",
    "        if minimo = bolita.y - bloque_y || minimo = bloque_y + Bloque.LY - bolita.y then\n",
    "            Vertical\n",
    "        else\n",
    "            Horizontal\n",
    "\n",
    "let Interaccion_bloques (estado_bloques: Bloques.Bloques) (bolita: bolita.Bolita) =\n",
    "    match hayBloque bolita.x bolita.y estado_bloques with\n",
    "    | false -> \n",
    "        (bolita, estado_bloques)\n",
    "    | true ->\n",
    "        let fila, columna = obtenerIdxBloque bolita.x bolita.y\n",
    "        let nuevosBloques = desactivarBloque fila columna estado_bloques\n",
    "        let tipo_choque = Tipo_choque bolita fila columna\n",
    "        match tipo_choque with\n",
    "        | Vertical -> ({ bolita with vy = -bolita.vy }, nuevosBloques)\n",
    "        | Horizontal -> ({ bolita with vx = -bolita.vx }, nuevosBloques)"
   ]
  },
  {
   "cell_type": "code",
   "execution_count": null,
   "metadata": {
    "dotnet_interactive": {
     "language": "fsharp"
    },
    "polyglot_notebook": {
     "kernelName": "fsharp"
    }
   },
   "outputs": [],
   "source": []
  }
 ],
 "metadata": {
  "kernelspec": {
   "display_name": ".NET (F#)",
   "language": "F#",
   "name": ".net-fsharp"
  },
  "language_info": {
   "name": "polyglot-notebook"
  },
  "polyglot_notebook": {
   "kernelInfo": {
    "defaultKernelName": "fsharp",
    "items": [
     {
      "aliases": [],
      "languageName": "fsharp",
      "name": "fsharp"
     }
    ]
   }
  }
 },
 "nbformat": 4,
 "nbformat_minor": 2
}
