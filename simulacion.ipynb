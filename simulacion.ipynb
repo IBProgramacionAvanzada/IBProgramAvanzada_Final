{
 "cells": [
  {
   "attachments": {},
   "cell_type": "markdown",
   "metadata": {},
   "source": [
    "# Simulación\n",
    "Dada la complejidad, los trabajadores de la empresesa decidieron desarrollar parte de su código en la plataforma \"Notebook de python\""
   ]
  },
  {
   "cell_type": "code",
   "execution_count": 6,
   "metadata": {
    "dotnet_interactive": {
     "language": "fsharp"
    },
    "polyglot_notebook": {
     "kernelName": "fsharp"
    },
    "vscode": {
     "languageId": "polyglot-notebook"
    }
   },
   "outputs": [],
   "source": [
    "type Bolita = \n",
    "    {\n",
    "        x: float\n",
    "        y: float\n",
    "        vx: float\n",
    "        vy: float\n",
    "    }\n",
    "\n",
    "type Barra = \n",
    "    {\n",
    "        x: float\n",
    "        y: float\n",
    "        Lx: float\n",
    "    }\n",
    "\n",
    "type Bloque = \n",
    "    {\n",
    "        x: float\n",
    "        y: float\n",
    "        Lx: float\n",
    "        Ly: float\n",
    "    }\n",
    "\n",
    "type Paredes =\n",
    "    {\n",
    "        xP1: float\n",
    "        yP1: float\n",
    "        xP2: float\n",
    "        yP2: float\n",
    "    }\n"
   ]
  },
  {
   "cell_type": "code",
   "execution_count": 7,
   "metadata": {
    "dotnet_interactive": {
     "language": "fsharp"
    },
    "polyglot_notebook": {
     "kernelName": "fsharp"
    },
    "vscode": {
     "languageId": "polyglot-notebook"
    }
   },
   "outputs": [],
   "source": [
    "let condicion_inicial_bolita = \n",
    "    let bolita:Bolita = {\n",
    "        x = 1.\n",
    "        y = 1.\n",
    "        vx = 0.\n",
    "        vy = 1.\n",
    "    }\n",
    "    bolita\n",
    "\n",
    "let condicion_inicial_paredes = \n",
    "    let paredes:Paredes = {\n",
    "        xP1 = 0\n",
    "        yP1 = 0.\n",
    "        xP2 = 100.\n",
    "        yP2 = 100.\n",
    "    }\n",
    "    paredes\n",
    "\n",
    "let condicion_inicial_bloques =\n",
    "    let bloque:Bloque = {\n",
    "        x = 0.\n",
    "        y = 0.\n",
    "        Lx = 10.\n",
    "        Ly = 10.\n",
    "    }\n",
    "    [bloque;bloque] \n",
    "\n",
    "\n",
    "let actualiza_bolita (bolita:Bolita) =\n",
    "    bolita"
   ]
  },
  {
   "cell_type": "code",
   "execution_count": 10,
   "metadata": {
    "dotnet_interactive": {
     "language": "fsharp"
    },
    "polyglot_notebook": {
     "kernelName": "fsharp"
    },
    "vscode": {
     "languageId": "polyglot-notebook"
    }
   },
   "outputs": [],
   "source": [
    "let InteraccionPared (paredes:Paredes) (bolita:Bolita) =\n",
    "    bolita\n",
    "\n",
    "let InteraccionBarra (barra:Barra) (bolita:Bolita) =\n",
    "    bolita\n",
    "\n",
    "let InteraccionBloques (bloques: Bloque List) (bolita: Bolita) =\n",
    "    let bloque_eliminado:Bloque = {\n",
    "        x = 0.\n",
    "        y = 0.\n",
    "        Lx = 10.\n",
    "        Ly = 10.\n",
    "    }\n",
    "    (bolita, bloques_new)\n",
    "\n",
    "let InputBarra (barra:Barra) =\n",
    "    barra\n",
    "\n",
    "let interfaz (bolita:Bolita) (bloques:Bloque) (barra:Barra) =\n",
    "    //Print sofisticado\n",
    "\n",
    "    ()"
   ]
  },
  {
   "cell_type": "code",
   "execution_count": 9,
   "metadata": {
    "dotnet_interactive": {
     "language": "fsharp"
    },
    "polyglot_notebook": {
     "kernelName": "fsharp"
    },
    "vscode": {
     "languageId": "polyglot-notebook"
    }
   },
   "outputs": [
    {
     "data": {
      "text/html": [
       "<details open=\"open\" class=\"dni-treeview\"><summary><span class=\"dni-code-hint\"><code>{ x = 1.0\\n  y = 1.0\\n  vx = 0.0\\n  vy = 1.0 }</code></span></summary><div><table><thead><tr></tr></thead><tbody><tr><td>x</td><td><div class=\"dni-plaintext\"><pre>1</pre></div></td></tr><tr><td>y</td><td><div class=\"dni-plaintext\"><pre>1</pre></div></td></tr><tr><td>vx</td><td><div class=\"dni-plaintext\"><pre>0</pre></div></td></tr><tr><td>vy</td><td><div class=\"dni-plaintext\"><pre>1</pre></div></td></tr></tbody></table></div></details><style>\r\n",
       ".dni-code-hint {\r\n",
       "    font-style: italic;\r\n",
       "    overflow: hidden;\r\n",
       "    white-space: nowrap;\r\n",
       "}\r\n",
       ".dni-treeview {\r\n",
       "    white-space: nowrap;\r\n",
       "}\r\n",
       ".dni-treeview td {\r\n",
       "    vertical-align: top;\r\n",
       "    text-align: start;\r\n",
       "}\r\n",
       "details.dni-treeview {\r\n",
       "    padding-left: 1em;\r\n",
       "}\r\n",
       "table td {\r\n",
       "    text-align: start;\r\n",
       "}\r\n",
       "table tr { \r\n",
       "    vertical-align: top; \r\n",
       "    margin: 0em 0px;\r\n",
       "}\r\n",
       "table tr td pre \r\n",
       "{ \r\n",
       "    vertical-align: top !important; \r\n",
       "    margin: 0em 0px !important;\r\n",
       "} \r\n",
       "table th {\r\n",
       "    text-align: start;\r\n",
       "}\r\n",
       "</style>"
      ]
     },
     "metadata": {},
     "output_type": "display_data"
    }
   ],
   "source": [
    "let bolita:Bolita = condicion_inicial_bolita\n",
    "\n",
    "let bloques:Bloque List = condicion_inicial_bloques\n",
    "\n",
    "let dt = 1e-3\n",
    "\n",
    "//Loop\n",
    "\n",
    "let new_bolita = actualiza_bolita bolita\n",
    "\n",
    "//Interacciones\n",
    "let new_bolita2 = InteraccionPared paredes new_bolita\n",
    "let new_bolita3 = InteraccionBarra barra  new_bolita2\n",
    "new_bloque, new_bolita4 = InteraccionBloques bloques new_bolita\n",
    "\n",
    "//Actualizamos la barra\n",
    "let new_barra:Barra = InputBarra barra\n",
    "\n",
    "interfaz new_bolita4 new_bloques new_barra\n",
    "\n"
   ]
  },
  {
   "cell_type": "code",
   "execution_count": null,
   "metadata": {
    "dotnet_interactive": {
     "language": "fsharp"
    },
    "polyglot_notebook": {
     "kernelName": "fsharp"
    },
    "vscode": {
     "languageId": "polyglot-notebook"
    }
   },
   "outputs": [],
   "source": []
  }
 ],
 "metadata": {
  "kernelspec": {
   "display_name": ".NET (C#)",
   "language": "C#",
   "name": ".net-csharp"
  },
  "language_info": {
   "name": "python"
  },
  "orig_nbformat": 4,
  "polyglot_notebook": {
   "kernelInfo": {
    "defaultKernelName": "csharp",
    "items": [
     {
      "aliases": [],
      "name": "csharp"
     }
    ]
   }
  }
 },
 "nbformat": 4,
 "nbformat_minor": 2
}
