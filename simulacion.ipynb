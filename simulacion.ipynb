{
 "cells": [
  {
   "attachments": {},
   "cell_type": "markdown",
   "metadata": {},
   "source": [
    "# Simulación\n",
    "Dada la complejidad, los trabajadores de la empresesa decidieron desarrollar parte de su código en la plataforma \"Notebook de python\""
   ]
  },
  {
   "cell_type": "code",
   "execution_count": 18,
   "metadata": {
    "dotnet_interactive": {
     "language": "fsharp"
    },
    "polyglot_notebook": {
     "kernelName": "fsharp"
    },
    "vscode": {
     "languageId": "polyglot-notebook"
    }
   },
   "outputs": [],
   "source": [
    "type Bolita = \n",
    "    {\n",
    "        x: float\n",
    "        y: float\n",
    "        vx: float\n",
    "        vy: float\n",
    "    }\n",
    "\n",
    "\n",
    "type Bloque = \n",
    "    {\n",
    "        x: float\n",
    "        y: float\n",
    "        Lx: float\n",
    "        Ly: float\n",
    "    }\n",
    "\n",
    "type Paredes =\n",
    "    {\n",
    "        xP1: float\n",
    "        yP1: float\n",
    "        xP2: float\n",
    "        yP2: float\n",
    "    }\n"
   ]
  },
  {
   "cell_type": "code",
   "execution_count": 19,
   "metadata": {
    "dotnet_interactive": {
     "language": "fsharp"
    },
    "polyglot_notebook": {
     "kernelName": "fsharp"
    },
    "vscode": {
     "languageId": "polyglot-notebook"
    }
   },
   "outputs": [],
   "source": [
    "let condicion_inicial_bolita = \n",
    "    let bolita:Bolita = {\n",
    "        x = 1.\n",
    "        y = 1.\n",
    "        vx = 0.\n",
    "        vy = 1.\n",
    "    }\n",
    "    bolita\n",
    "\n",
    "let condicion_inicial_paredes = \n",
    "    let paredes:Paredes = {\n",
    "        xP1 = 0\n",
    "        yP1 = 0.\n",
    "        xP2 = 100.\n",
    "        yP2 = 100.\n",
    "    }\n",
    "    paredes\n",
    "\n",
    "let condicion_inicial_bloques =\n",
    "    let bloque:Bloque = {\n",
    "        x = 0.\n",
    "        y = 0.\n",
    "        Lx = 10.\n",
    "        Ly = 10.\n",
    "    }\n",
    "    [bloque;bloque] \n",
    "\n",
    "\n",
    "let actualiza_bolita (bolita:Bolita) =\n",
    "    bolita"
   ]
  },
  {
   "cell_type": "code",
   "execution_count": 20,
   "metadata": {
    "dotnet_interactive": {
     "language": "fsharp"
    },
    "polyglot_notebook": {
     "kernelName": "fsharp"
    },
    "vscode": {
     "languageId": "polyglot-notebook"
    }
   },
   "outputs": [],
   "source": [
    "//Barrita.fs\n",
    "\n",
    "type Barra = \n",
    "    {\n",
    "        x: float\n",
    "        y: float\n",
    "        L: float\n",
    "    }\n",
    "\n",
    "let Barra_inicial:Barra = \n",
    "    {\n",
    "        x = 50.0\n",
    "        y = 1.\n",
    "        L = 5.\n",
    "    }\n",
    "\n",
    "let condicion_inicial_barra =\n",
    "    Barra_inicial\n",
    "\n",
    "let InputBarra (barra:Barra) =\n",
    "    \n",
    "\n",
    "    barra\n"
   ]
  },
  {
   "cell_type": "code",
   "execution_count": 21,
   "metadata": {
    "dotnet_interactive": {
     "language": "fsharp"
    },
    "polyglot_notebook": {
     "kernelName": "fsharp"
    },
    "vscode": {
     "languageId": "polyglot-notebook"
    }
   },
   "outputs": [
    {
     "name": "stderr",
     "output_type": "stream",
     "text": [
      "Detenido debido a un error.\n"
     ]
    },
    {
     "ename": "Error",
     "evalue": "input.fsx (16,14)-(16,25) typecheck error El valor o constructor \"bloques_new\" no está definido. Puede elegir una de las opciones siguientes:\r\n   bloques\r\n   Bloque\r\n   bloque_eliminado",
     "output_type": "error",
     "traceback": [
      "input.fsx (16,14)-(16,25) typecheck error El valor o constructor \"bloques_new\" no está definido. Puede elegir una de las opciones siguientes:\r\n",
      "   bloques\r\n",
      "   Bloque\r\n",
      "   bloque_eliminado"
     ]
    }
   ],
   "source": [
    "//Interacciones.fs\n",
    "\n",
    "let Interaccion_pared (paredes:Paredes) (bolita:Bolita) =\n",
    "    bolita\n",
    "\n",
    "let Interaccion_barra (barra:Barra) (bolita:Bolita) =\n",
    "    bolita\n",
    "\n",
    "let Interaccion_bloques (bloques: Bloque List) (bolita: Bolita) =\n",
    "    let bloque_eliminado:Bloque = {\n",
    "        x = 0.\n",
    "        y = 0.\n",
    "        Lx = 10.\n",
    "        Ly = 10.\n",
    "    }\n",
    "    (bolita, bloques_new)\n",
    "\n",
    "\n"
   ]
  },
  {
   "cell_type": "code",
   "execution_count": null,
   "metadata": {
    "dotnet_interactive": {
     "language": "fsharp"
    },
    "polyglot_notebook": {
     "kernelName": "fsharp"
    },
    "vscode": {
     "languageId": "polyglot-notebook"
    }
   },
   "outputs": [],
   "source": [
    "\n",
    "let interfaz (bolita:Bolita) (bloques:Bloque) (barra:Barra) =\n",
    "    //Print sofisticado\n",
    "\n",
    "    ()"
   ]
  },
  {
   "cell_type": "code",
   "execution_count": 24,
   "metadata": {
    "dotnet_interactive": {
     "language": "fsharp"
    },
    "polyglot_notebook": {
     "kernelName": "fsharp"
    },
    "vscode": {
     "languageId": "polyglot-notebook"
    }
   },
   "outputs": [
    {
     "name": "stderr",
     "output_type": "stream",
     "text": [
      "Detenido debido a un error.\n"
     ]
    },
    {
     "ename": "Error",
     "evalue": "input.fsx (13,8)-(13,25) typecheck error El valor o constructor \"Interaccion_pared\" no está definido. Puede elegir una de las opciones siguientes:\r\n   InterfaceAttribute\r\n   Interop\ninput.fsx (14,8)-(14,25) typecheck error El valor o constructor \"Interaccion_barra\" no está definido. Puede elegir una de las opciones siguientes:\r\n   InterfaceAttribute\r\n   Interop\ninput.fsx (15,8)-(15,27) typecheck error El valor o constructor \"Interaccion_bloques\" no está definido. Puede elegir una de las opciones siguientes:\r\n   InterfaceAttribute\r\n   Interop\ninput.fsx (18,23)-(18,33) typecheck error El valor o constructor \"InputBarra\" no está definido.\ninput.fsx (20,1)-(20,9) typecheck error El valor o constructor \"interfaz\" no está definido. Puede elegir una de las opciones siguientes:\r\n   Internal\r\n   Interop\r\n   InterfaceAttribute\r\n   int\r\n   int8",
     "output_type": "error",
     "traceback": [
      "input.fsx (13,8)-(13,25) typecheck error El valor o constructor \"Interaccion_pared\" no está definido. Puede elegir una de las opciones siguientes:\r\n",
      "   InterfaceAttribute\r\n",
      "   Interop\n",
      "input.fsx (14,8)-(14,25) typecheck error El valor o constructor \"Interaccion_barra\" no está definido. Puede elegir una de las opciones siguientes:\r\n",
      "   InterfaceAttribute\r\n",
      "   Interop\n",
      "input.fsx (15,8)-(15,27) typecheck error El valor o constructor \"Interaccion_bloques\" no está definido. Puede elegir una de las opciones siguientes:\r\n",
      "   InterfaceAttribute\r\n",
      "   Interop\n",
      "input.fsx (18,23)-(18,33) typecheck error El valor o constructor \"InputBarra\" no está definido.\n",
      "input.fsx (20,1)-(20,9) typecheck error El valor o constructor \"interfaz\" no está definido. Puede elegir una de las opciones siguientes:\r\n",
      "   Internal\r\n",
      "   Interop\r\n",
      "   InterfaceAttribute\r\n",
      "   int\r\n",
      "   int8"
     ]
    }
   ],
   "source": [
    "let bolita:Bolita = condicion_inicial_bolita\n",
    "\n",
    "let bloques:Bloque List = condicion_inicial_bloques\n",
    "\n",
    "let barra:Barra = condicion_inicial_barra\n",
    "\n",
    "let dt = 1e-3\n",
    "\n",
    "//Loop\n",
    "\n",
    "let new_objects = \n",
    "    actualiza_bolita bolita\n",
    "    |> Interaccion_pared paredes\n",
    "    |> Interaccion_barra barra\n",
    "    |> Interaccion_bloques bloques\n",
    "\n",
    "new_bolita = fst new_objects\n",
    "bloque_eliminado = snd new_objects\n",
    "eliminar_bloque bloques bloque_eliminado\n",
    "\n",
    "\n",
    "//Actualizamos la barra\n",
    "let new_barra:Barra = InputBarra barra\n",
    "\n",
    "interfaz new_bolita4 new_bloques new_barra\n",
    "\n"
   ]
  },
  {
   "cell_type": "code",
   "execution_count": 23,
   "metadata": {
    "dotnet_interactive": {
     "language": "fsharp"
    },
    "polyglot_notebook": {
     "kernelName": "fsharp"
    },
    "vscode": {
     "languageId": "polyglot-notebook"
    }
   },
   "outputs": [],
   "source": []
  }
 ],
 "metadata": {
  "kernelspec": {
   "display_name": ".NET (C#)",
   "language": "C#",
   "name": ".net-csharp"
  },
  "language_info": {
   "name": "python"
  },
  "orig_nbformat": 4,
  "polyglot_notebook": {
   "kernelInfo": {
    "defaultKernelName": "csharp",
    "items": [
     {
      "aliases": [],
      "name": "csharp"
     }
    ]
   }
  }
 },
 "nbformat": 4,
 "nbformat_minor": 2
}
