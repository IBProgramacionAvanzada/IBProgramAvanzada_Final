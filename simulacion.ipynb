{
 "cells": [
  {
   "attachments": {},
   "cell_type": "markdown",
   "metadata": {},
   "source": [
    "# Simulación\n",
    "Dada la complejidad, los trabajadores de la empresesa decidieron desarrollar parte de su código en la plataforma \"Notebook de python\""
   ]
  },
  {
   "cell_type": "code",
   "execution_count": 9,
   "metadata": {
    "dotnet_interactive": {
     "language": "fsharp"
    },
    "polyglot_notebook": {
     "kernelName": "fsharp"
    },
    "vscode": {
     "languageId": "polyglot-notebook"
    }
   },
   "outputs": [],
   "source": [
    "type Bolita = \n",
    "    {\n",
    "        x: float\n",
    "        y: float\n",
    "        vx: float\n",
    "        vy: float\n",
    "    }\n",
    "\n",
    "type Barra = \n",
    "    {\n",
    "        x: float\n",
    "        y: float\n",
    "        Lx: float\n",
    "    }\n",
    "\n",
    "let xP1 = 0.\n",
    "let yP1 = 0.\n",
    "let xP2 = 100.\n",
    "let yP2 = 100.\n",
    "let dt = 1e-3\n",
    "\n",
    "type Bloque = \n",
    "    {\n",
    "        x: float\n",
    "        y: float\n",
    "        Lx: float\n",
    "        Ly: float\n",
    "    }"
   ]
  },
  {
   "cell_type": "code",
   "execution_count": 5,
   "metadata": {
    "dotnet_interactive": {
     "language": "fsharp"
    },
    "polyglot_notebook": {
     "kernelName": "fsharp"
    },
    "vscode": {
     "languageId": "polyglot-notebook"
    }
   },
   "outputs": [],
   "source": [
    "let condicion_inicial_bolita = \n",
    "    let bolita:Bolita = {\n",
    "        x = 1.\n",
    "        y = 1.\n",
    "        vx = 0.\n",
    "        vy = 1.\n",
    "    }\n",
    "    bolita\n",
    "\n",
    "let condicion_inicial_bloques =\n",
    "    let bloque:Bloque = {\n",
    "        x = 0.\n",
    "        y = 0.\n",
    "        Lx = 10.\n",
    "        Ly = 10.\n",
    "    }\n",
    "    [bloque;bloque] \n",
    "\n",
    "\n",
    "let actualiza_bolita (bolita:Bolita) =\n",
    "    bolita"
   ]
  },
  {
   "cell_type": "code",
   "execution_count": 8,
   "metadata": {
    "dotnet_interactive": {
     "language": "fsharp"
    },
    "polyglot_notebook": {
     "kernelName": "fsharp"
    },
    "vscode": {
     "languageId": "polyglot-notebook"
    }
   },
   "outputs": [],
   "source": [
    "let bolita:Bolita = condicion_inicial_bolita\n",
    "\n",
    "let bloques:Bloque List = condicion_inicial_bloques\n",
    "\n",
    "//Loop\n",
    "let new_bolita = actualiza_bolita bolita\n",
    "\n",
    "//Interacciones\n",
    "\n"
   ]
  },
  {
   "cell_type": "code",
   "execution_count": null,
   "metadata": {
    "dotnet_interactive": {
     "language": "fsharp"
    },
    "polyglot_notebook": {
     "kernelName": "fsharp"
    },
    "vscode": {
     "languageId": "polyglot-notebook"
    }
   },
   "outputs": [],
   "source": []
  }
 ],
 "metadata": {
  "language_info": {
   "name": "python"
  },
  "orig_nbformat": 4
 },
 "nbformat": 4,
 "nbformat_minor": 2
}
