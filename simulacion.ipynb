{
 "cells": [
  {
   "attachments": {},
   "cell_type": "markdown",
   "metadata": {},
   "source": [
    "# Simulación\n",
    "Dada la complejidad, los trabajadores de la empresesa decidieron desarrollar parte de su código en la plataforma \"Notebook de python\""
   ]
  },
  {
   "cell_type": "code",
   "execution_count": 18,
   "metadata": {
    "dotnet_interactive": {
     "language": "fsharp"
    },
    "polyglot_notebook": {
     "kernelName": "fsharp"
    },
    "vscode": {
     "languageId": "polyglot-notebook"
    }
   },
   "outputs": [],
   "source": [
    "type Bolita = \n",
    "    {\n",
    "        x: float\n",
    "        y: float\n",
    "        vx: float\n",
    "        vy: float\n",
    "    }\n",
    "\n",
    "\n",
    "type Bloque = \n",
    "    {\n",
    "        x: float\n",
    "        y: float\n",
    "        Lx: float\n",
    "        Ly: float\n",
    "    }\n"
   ]
  },
  {
   "cell_type": "code",
   "execution_count": 19,
   "metadata": {
    "dotnet_interactive": {
     "language": "fsharp"
    },
    "polyglot_notebook": {
     "kernelName": "fsharp"
    },
    "vscode": {
     "languageId": "polyglot-notebook"
    }
   },
   "outputs": [],
   "source": [
    "let condicion_inicial_bolita = \n",
    "    let bolita:Bolita = {\n",
    "        x = 1.\n",
    "        y = 1.\n",
    "        vx = 0.\n",
    "        vy = 1.\n",
    "    }\n",
    "    bolita\n",
    "\n",
    "\n",
    "\n",
    "let condicion_inicial_bloques =\n",
    "    let bloque:Bloque = {\n",
    "        x = 0.\n",
    "        y = 0.\n",
    "        Lx = 10.\n",
    "        Ly = 10.\n",
    "    }\n",
    "    [bloque;bloque] \n",
    "\n",
    "\n",
    "let actualiza_bolita (bolita:Bolita) =\n",
    "    bolita"
   ]
  },
  {
   "cell_type": "code",
   "execution_count": 25,
   "metadata": {
    "dotnet_interactive": {
     "language": "fsharp"
    },
    "polyglot_notebook": {
     "kernelName": "fsharp"
    },
    "vscode": {
     "languageId": "polyglot-notebook"
    }
   },
   "outputs": [],
   "source": [
    "//Paredes.fs\n",
    "\n",
    "\n",
    "type Paredes =\n",
    "    {\n",
    "        Left_x: float\n",
    "        Down_y: float\n",
    "        Right_x: float\n",
    "        Up_y: float\n",
    "    }\n",
    "\n",
    "let paredes_inicial:Paredes =\n",
    "    {   \n",
    "        Left_x = 0.\n",
    "        Down_y = 0.\n",
    "        Right_x = 100.\n",
    "        Up_y = 100.\n",
    "    }\n",
    "\n",
    "\n",
    "let condicion_inicial_paredes = \n",
    "    paredes_inicial"
   ]
  },
  {
   "cell_type": "code",
   "execution_count": 20,
   "metadata": {
    "dotnet_interactive": {
     "language": "fsharp"
    },
    "polyglot_notebook": {
     "kernelName": "fsharp"
    },
    "vscode": {
     "languageId": "polyglot-notebook"
    }
   },
   "outputs": [],
   "source": [
    "//Barrita.fs\n",
    "\n",
    "type Barra = \n",
    "    {\n",
    "        x: float\n",
    "        y: float\n",
    "        L: float\n",
    "    }\n",
    "\n",
    "let barra_inicial:Barra = \n",
    "    {\n",
    "        x = 50.0\n",
    "        y = 1.\n",
    "        L = 5.\n",
    "    }\n",
    "\n",
    "let condicion_inicial_barra =\n",
    "    barra_inicial\n",
    "\n",
    "let InputBarra (barra:Barra) =\n",
    "    \n",
    "\n",
    "    barra\n"
   ]
  },
  {
   "cell_type": "code",
   "execution_count": 21,
   "metadata": {
    "dotnet_interactive": {
     "language": "fsharp"
    },
    "polyglot_notebook": {
     "kernelName": "fsharp"
    },
    "vscode": {
     "languageId": "polyglot-notebook"
    }
   },
   "outputs": [
    {
     "name": "stderr",
     "output_type": "stream",
     "text": [
      "Detenido debido a un error.\n"
     ]
    },
    {
     "ename": "Error",
     "evalue": "input.fsx (16,14)-(16,25) typecheck error El valor o constructor \"bloques_new\" no está definido. Puede elegir una de las opciones siguientes:\r\n   bloques\r\n   Bloque\r\n   bloque_eliminado",
     "output_type": "error",
     "traceback": [
      "input.fsx (16,14)-(16,25) typecheck error El valor o constructor \"bloques_new\" no está definido. Puede elegir una de las opciones siguientes:\r\n",
      "   bloques\r\n",
      "   Bloque\r\n",
      "   bloque_eliminado"
     ]
    }
   ],
   "source": [
    "//Interacciones.fs\n",
    "\n",
    "let Interaccion_pared (paredes:Paredes) (bolita:Bolita) =\n",
    "    match bolita with\n",
    "    | bolita when bolita.x <= paredes.Left_x -> {bolita with vx = -bolita.vx}\n",
    "    | bolita when bolita.x >= paredes.Right_x -> {bolita with vx = -bolita.vx}\n",
    "    | bolita when bolita.y >= paredes.Up_y -> {bolita with vy = -bolita.vy}\n",
    "    | bolita when bolita.y <= paredes.Down_y -> bolita\n",
    "    | _ -> bolita\n",
    "\n",
    "let Interaccion_barra (barra:Barra) (bolita:Bolita) =\n",
    "    if bolita.y <= barra.y && bolita.x >= barra.x && bolita.x <= barra.x + barra.L then\n",
    "        {bolita with vy = -bolita.vy}\n",
    "    else \n",
    "        bolita\n",
    "\n",
    "let Interaccion_bloques (bloques: Bloque List) (bolita: Bolita) =\n",
    "    //TODO: Implementar. Revisar tema Listas\n",
    "    let bloque_eliminado:Bloque = {\n",
    "        x = 0.\n",
    "        y = 0.\n",
    "        Lx = 10.\n",
    "        Ly = 10.\n",
    "    }\n",
    "    (bolita, bloque_eliminado)\n"
   ]
  },
  {
   "cell_type": "code",
   "execution_count": null,
   "metadata": {
    "dotnet_interactive": {
     "language": "fsharp"
    },
    "polyglot_notebook": {
     "kernelName": "fsharp"
    },
    "vscode": {
     "languageId": "polyglot-notebook"
    }
   },
   "outputs": [],
   "source": [
    "//End\n",
    "\n",
    "let colision_wall_bellow (bolita:Bolita) (pared:Pared)= \n",
    "    match bolita with\n",
    "    | {x = x; y = y; vx = vx; vy = vy} when y <= pared.down -> true\n",
    "    | _ -> false\n"
   ]
  },
  {
   "cell_type": "code",
   "execution_count": null,
   "metadata": {
    "dotnet_interactive": {
     "language": "fsharp"
    },
    "polyglot_notebook": {
     "kernelName": "fsharp"
    },
    "vscode": {
     "languageId": "polyglot-notebook"
    }
   },
   "outputs": [],
   "source": [
    "\n",
    "let interfaz (bolita:Bolita) (bloques:Bloque) (barra:Barra) =\n",
    "    //Print sofisticado\n",
    "\n",
    "    ()"
   ]
  },
  {
   "cell_type": "code",
   "execution_count": 24,
   "metadata": {
    "dotnet_interactive": {
     "language": "fsharp"
    },
    "polyglot_notebook": {
     "kernelName": "fsharp"
    },
    "vscode": {
     "languageId": "polyglot-notebook"
    }
   },
   "outputs": [
    {
     "name": "stderr",
     "output_type": "stream",
     "text": [
      "Detenido debido a un error.\n"
     ]
    },
    {
     "ename": "Error",
     "evalue": "input.fsx (13,8)-(13,25) typecheck error El valor o constructor \"Interaccion_pared\" no está definido. Puede elegir una de las opciones siguientes:\r\n   InterfaceAttribute\r\n   Interop\ninput.fsx (14,8)-(14,25) typecheck error El valor o constructor \"Interaccion_barra\" no está definido. Puede elegir una de las opciones siguientes:\r\n   InterfaceAttribute\r\n   Interop\ninput.fsx (15,8)-(15,27) typecheck error El valor o constructor \"Interaccion_bloques\" no está definido. Puede elegir una de las opciones siguientes:\r\n   InterfaceAttribute\r\n   Interop\ninput.fsx (18,23)-(18,33) typecheck error El valor o constructor \"InputBarra\" no está definido.\ninput.fsx (20,1)-(20,9) typecheck error El valor o constructor \"interfaz\" no está definido. Puede elegir una de las opciones siguientes:\r\n   Internal\r\n   Interop\r\n   InterfaceAttribute\r\n   int\r\n   int8",
     "output_type": "error",
     "traceback": [
      "input.fsx (13,8)-(13,25) typecheck error El valor o constructor \"Interaccion_pared\" no está definido. Puede elegir una de las opciones siguientes:\r\n",
      "   InterfaceAttribute\r\n",
      "   Interop\n",
      "input.fsx (14,8)-(14,25) typecheck error El valor o constructor \"Interaccion_barra\" no está definido. Puede elegir una de las opciones siguientes:\r\n",
      "   InterfaceAttribute\r\n",
      "   Interop\n",
      "input.fsx (15,8)-(15,27) typecheck error El valor o constructor \"Interaccion_bloques\" no está definido. Puede elegir una de las opciones siguientes:\r\n",
      "   InterfaceAttribute\r\n",
      "   Interop\n",
      "input.fsx (18,23)-(18,33) typecheck error El valor o constructor \"InputBarra\" no está definido.\n",
      "input.fsx (20,1)-(20,9) typecheck error El valor o constructor \"interfaz\" no está definido. Puede elegir una de las opciones siguientes:\r\n",
      "   Internal\r\n",
      "   Interop\r\n",
      "   InterfaceAttribute\r\n",
      "   int\r\n",
      "   int8"
     ]
    }
   ],
   "source": [
    "let bolita:Bolita = condicion_inicial_bolita\n",
    "\n",
    "let bloques:Bloque List = condicion_inicial_bloques\n",
    "\n",
    "let barra:Barra = condicion_inicial_barra\n",
    "\n",
    "let dt = 1e-3\n",
    "\n",
    "//Loop\n",
    "\n",
    "let new_objects = \n",
    "    actualiza_bolita bolita\n",
    "    |> Interaccion_pared paredes\n",
    "    |> Interaccion_barra barra\n",
    "    |> Interaccion_bloques bloques\n",
    "\n",
    "new_bolita = fst new_objects\n",
    "bloque_eliminado = snd new_objects\n",
    "eliminar_bloque bloques bloque_eliminado\n",
    "\n",
    "\n",
    "//Actualizamos la barra\n",
    "let new_barra:Barra = InputBarra barra\n",
    "\n",
    "interfaz new_bolita4 new_bloques new_barra\n",
    "\n"
   ]
  },
  {
   "cell_type": "code",
   "execution_count": 23,
   "metadata": {
    "dotnet_interactive": {
     "language": "fsharp"
    },
    "polyglot_notebook": {
     "kernelName": "fsharp"
    },
    "vscode": {
     "languageId": "polyglot-notebook"
    }
   },
   "outputs": [],
   "source": []
  }
 ],
 "metadata": {
  "kernelspec": {
   "display_name": ".NET (C#)",
   "language": "C#",
   "name": ".net-csharp"
  },
  "language_info": {
   "name": "python"
  },
  "orig_nbformat": 4,
  "polyglot_notebook": {
   "kernelInfo": {
    "defaultKernelName": "csharp",
    "items": [
     {
      "aliases": [],
      "name": "csharp"
     }
    ]
   }
  }
 },
 "nbformat": 4,
 "nbformat_minor": 2
}
