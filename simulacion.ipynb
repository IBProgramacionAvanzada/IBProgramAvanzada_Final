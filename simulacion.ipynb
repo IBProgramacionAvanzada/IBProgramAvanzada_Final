{
 "cells": [
  {
   "attachments": {},
   "cell_type": "markdown",
   "metadata": {},
   "source": [
    "# Simulación\n",
    "Dada la complejidad, los trabajadores de la empresesa decidieron desarrollar parte de su código en la plataforma \"Notebook de python\""
   ]
  },
  {
   "cell_type": "code",
   "execution_count": 26,
   "metadata": {
    "dotnet_interactive": {
     "language": "fsharp"
    },
    "polyglot_notebook": {
     "kernelName": "fsharp"
    },
    "vscode": {
     "languageId": "polyglot-notebook"
    }
   },
   "outputs": [],
   "source": [
    "type Bolita = \n",
    "    {\n",
    "        x: float\n",
    "        y: float\n",
    "        vx: float\n",
    "        vy: float\n",
    "    }\n",
    "\n",
    "\n",
    "type Bloque = \n",
    "    {\n",
    "        x: float // Posición x de esquina inferior izquierda\n",
    "        y: float // Posición y de esquina inferior izquierda\n",
    "        Lx: float\n",
    "        Ly: float\n",
    "    }\n"
   ]
  },
  {
   "cell_type": "code",
   "execution_count": 27,
   "metadata": {
    "dotnet_interactive": {
     "language": "fsharp"
    },
    "polyglot_notebook": {
     "kernelName": "fsharp"
    },
    "vscode": {
     "languageId": "polyglot-notebook"
    }
   },
   "outputs": [],
   "source": [
    "let condicion_inicial_bolita = \n",
    "    let bolita:Bolita = {\n",
    "        x = 1.\n",
    "        y = 1.\n",
    "        vx = 0.\n",
    "        vy = 1.\n",
    "    }\n",
    "    bolita\n",
    "\n",
    "\n",
    "\n",
    "let condicion_inicial_bloques =\n",
    "    let bloque:Bloque = {\n",
    "        x = 0.\n",
    "        y = 0.\n",
    "        Lx = 10.\n",
    "        Ly = 10.\n",
    "    }\n",
    "    [bloque;bloque] \n",
    "\n",
    "\n",
    "let actualiza_bolita (bolita:Bolita) =\n",
    "    bolita"
   ]
  },
  {
   "cell_type": "code",
   "execution_count": 28,
   "metadata": {
    "dotnet_interactive": {
     "language": "fsharp"
    },
    "polyglot_notebook": {
     "kernelName": "fsharp"
    },
    "vscode": {
     "languageId": "polyglot-notebook"
    }
   },
   "outputs": [],
   "source": [
    "//Paredes.fs\n",
    "\n",
    "\n",
    "type Paredes =\n",
    "    {\n",
    "        Left_x: float\n",
    "        Down_y: float\n",
    "        Right_x: float\n",
    "        Up_y: float\n",
    "    }\n",
    "\n",
    "let paredes_inicial:Paredes =\n",
    "    {   \n",
    "        Left_x = 0.\n",
    "        Down_y = 0.\n",
    "        Right_x = 100.\n",
    "        Up_y = 100.\n",
    "    }\n",
    "\n",
    "\n",
    "let condicion_inicial_paredes = \n",
    "    paredes_inicial"
   ]
  },
  {
   "cell_type": "code",
   "execution_count": null,
   "metadata": {
    "dotnet_interactive": {
     "language": "fsharp"
    },
    "polyglot_notebook": {
     "kernelName": "fsharp"
    },
    "vscode": {
     "languageId": "polyglot-notebook"
    }
   },
   "outputs": [],
   "source": [
    "//User_input\n",
    "open System\n",
    "\n",
    "// let leer_teclado () = \n",
    "//     if Console.KeyAvailable then\n",
    "//         let key = Console.ReadKey(true).Key\n",
    "//         match key with\n",
    "//         | ConsoleKey.LeftArrow -> printfn \"Has presionado <-\"\n",
    "//         | ConsoleKey.RightArrow -> printfn \"Has presionado ->\"\n",
    "//         | _ -> printfn \"Sin efecto %A\" key\n",
    "//     else\n",
    "//         () // printfn \"No presionaste ninguna letra\""
   ]
  },
  {
   "cell_type": "code",
   "execution_count": 40,
   "metadata": {
    "dotnet_interactive": {
     "language": "fsharp"
    },
    "polyglot_notebook": {
     "kernelName": "fsharp"
    },
    "vscode": {
     "languageId": "polyglot-notebook"
    }
   },
   "outputs": [],
   "source": [
    "//Barrita.fs\n",
    "\n",
    "type Barra = \n",
    "    {\n",
    "        x: float\n",
    "        y: float\n",
    "        L: float\n",
    "    }\n",
    "\n",
    "type MovimientoBarra = \n",
    "    | Izquierda\n",
    "    | Derecha\n",
    "\n",
    "let barra_inicial:Barra = \n",
    "    {\n",
    "        x = 50.0\n",
    "        y = 1.\n",
    "        L = 5.\n",
    "    }\n",
    "\n",
    "let condicion_inicial_barra =\n",
    "    barra_inicial\n",
    "\n",
    "let actualizo_barra (barra:Barra) (movimiento:MovimientoBarra) (vx_barra:float) (dt:float) =\n",
    "    if movimiento = MovimientoBarra.Izquierda then\n",
    "        {barra with x = barra.x - vx_barra*dt}\n",
    "    else\n",
    "        {barra with x = barra.x + vx_barra*dt}\n",
    "\n",
    "let movimiento_barra (barra:Barra) (vx_barra:float) (dt:float)=\n",
    "    if Console.KeyAvailable then\n",
    "        let key = Console.ReadKey(true).Key\n",
    "        match key with\n",
    "        | ConsoleKey.LeftArrow -> actualizo_barra barra MovimientoBarra.Izquierda vx_barra dt \n",
    "        | ConsoleKey.RightArrow -> actualizo_barra barra MovimientoBarra.Derecha vx_barra dt\n",
    "        | _ -> barra\n",
    "    else\n",
    "        barra"
   ]
  },
  {
   "cell_type": "code",
   "execution_count": 45,
   "metadata": {
    "dotnet_interactive": {
     "language": "fsharp"
    },
    "polyglot_notebook": {
     "kernelName": "fsharp"
    },
    "vscode": {
     "languageId": "polyglot-notebook"
    }
   },
   "outputs": [],
   "source": [
    "type testeo = \n",
    "    | A of string\n",
    "    | B of int\n",
    "\n",
    "let testeo = A \"hola\""
   ]
  },
  {
   "cell_type": "code",
   "execution_count": 46,
   "metadata": {
    "dotnet_interactive": {
     "language": "fsharp"
    },
    "polyglot_notebook": {
     "kernelName": "fsharp"
    },
    "vscode": {
     "languageId": "polyglot-notebook"
    }
   },
   "outputs": [],
   "source": [
    "//Interacciones.fs\n",
    "\n",
    "let Interaccion_pared (paredes:Paredes) (bolita:Bolita) =\n",
    "    match bolita with\n",
    "    | bolita when bolita.x <= paredes.Left_x -> {bolita with vx = -bolita.vx}\n",
    "    | bolita when bolita.x >= paredes.Right_x -> {bolita with vx = -bolita.vx}\n",
    "    | bolita when bolita.y >= paredes.Up_y -> {bolita with vy = -bolita.vy}\n",
    "    | bolita when bolita.y <= paredes.Down_y -> bolita\n",
    "    | _ -> bolita\n",
    "\n",
    "let Interaccion_barra (barra:Barra) (bolita:Bolita) =\n",
    "    if bolita.y <= barra.y && bolita.x >= barra.x && bolita.x <= barra.x + barra.L then\n",
    "        {bolita with vy = -bolita.vy}\n",
    "    else \n",
    "        bolita\n",
    "\n",
    "type Bloque_eliminado =\n",
    "    | Eliminado of Bloque\n",
    "    | NoEliminado\n",
    "\n",
    "type Choque_con_bloque = \n",
    "    | Vertical\n",
    "    | Horizontal\n",
    "\n",
    "let choca_bloque (bolita:Bolita) (bloque:Bloque) = \n",
    "    bolita.y <= bloque.y + bloque.Ly && bolita.y >= bloque.y && bolita.x >= bloque.x && bolita.x <= bloque.x + bloque.Lx\n",
    "\n",
    "let Tipo_choque (bolita:Bolita) (bloque:Bloque) =\n",
    "    let distancias_a_bloque = [bolita.y - bloque.y; bloque.y + bloque.Ly - bolita.y; bolita.x - bloque.x; bloque.x + bloque.Lx - bolita.x]\n",
    "    let minimo = List.min distancias_a_bloque\n",
    "    if minimo = bolita.y - bloque.y || minimo = bloque.y + bloque.Ly - bolita.y then\n",
    "        Vertical\n",
    "    else\n",
    "        Horizontal\n",
    "        \n",
    "let Interaccion_bloques (bloques: Bloque List) (bolita: Bolita) =\n",
    "\n",
    "    let rec Iteracion_sobre_bloques (bloques: Bloque List) (bolita: Bolita) =\n",
    "        match bloques with\n",
    "        | [] -> (bolita, Bloque_eliminado.NoEliminado)\n",
    "        | bloque::bloques -> \n",
    "            if choca_bloque bolita bloque then\n",
    "                let tipo_choque = Tipo_choque bolita bloque\n",
    "                match tipo_choque with\n",
    "                    | Vertical -> ({bolita with vy = -bolita.vy}, Bloque_eliminado.Eliminado bloque)\n",
    "                    | Horizontal -> ({bolita with vx = -bolita.vx}, Bloque_eliminado.Eliminado bloque)\n",
    "            else\n",
    "                Iteracion_sobre_bloques bloques bolita\n",
    "\n",
    "    Iteracion_sobre_bloques bloques bolita\n",
    "\n"
   ]
  },
  {
   "cell_type": "code",
   "execution_count": 36,
   "metadata": {
    "dotnet_interactive": {
     "language": "fsharp"
    },
    "polyglot_notebook": {
     "kernelName": "fsharp"
    },
    "vscode": {
     "languageId": "polyglot-notebook"
    }
   },
   "outputs": [],
   "source": [
    "//End\n",
    "\n",
    "let Bolita_escapa (bolita:Bolita) (pared:Paredes) : bool = \n",
    "    bolita.y < pared.Down_y\n"
   ]
  },
  {
   "cell_type": "code",
   "execution_count": 33,
   "metadata": {
    "dotnet_interactive": {
     "language": "fsharp"
    },
    "polyglot_notebook": {
     "kernelName": "fsharp"
    },
    "vscode": {
     "languageId": "polyglot-notebook"
    }
   },
   "outputs": [],
   "source": [
    "\n",
    "let interfaz (bolita:Bolita) (bloques:Bloque) (barra:Barra) =\n",
    "    //Print sofisticado\n",
    "\n",
    "    ()"
   ]
  },
  {
   "cell_type": "code",
   "execution_count": 34,
   "metadata": {
    "dotnet_interactive": {
     "language": "fsharp"
    },
    "polyglot_notebook": {
     "kernelName": "fsharp"
    },
    "vscode": {
     "languageId": "polyglot-notebook"
    }
   },
   "outputs": [
    {
     "name": "stderr",
     "output_type": "stream",
     "text": [
      "Detenido debido a un error.\n"
     ]
    },
    {
     "ename": "Error",
     "evalue": "input.fsx (15,30)-(15,37) typecheck error El valor o constructor \"paredes\" no está definido. Puede elegir una de las opciones siguientes:\r\n   Paredes\r\n   paredes_inicial\ninput.fsx (19,5)-(19,15) typecheck error El valor o constructor \"new_bolita\" no está definido. Puede elegir una de las opciones siguientes:\r\n   new_objects\ninput.fsx (19,5)-(19,33) typecheck warning El resultado de esta expresión de igualdad, de tipo \"bool\", se descarta de forma implícita. Considere la posibilidad de usar \"let\" para enlazar el resultado a un nombre, por ejemplo \"let resultado = expresión\".\ninput.fsx (20,5)-(20,21) typecheck error El valor o constructor \"bloque_eliminado\" no está definido. Puede elegir una de las opciones siguientes:\r\n   bloques\r\n   Bloque\ninput.fsx (20,5)-(20,39) typecheck warning El resultado de esta expresión de igualdad, de tipo \"bool\", se descarta de forma implícita. Considere la posibilidad de usar \"let\" para enlazar el resultado a un nombre, por ejemplo \"let resultado = expresión\".\ninput.fsx (21,5)-(21,20) typecheck error El valor o constructor \"eliminar_bloque\" no está definido.\ninput.fsx (27,14)-(27,25) typecheck error El valor o constructor \"new_bolita4\" no está definido. Puede elegir una de las opciones siguientes:\r\n   new_barra\ninput.fsx (27,26)-(27,37) typecheck error El valor o constructor \"new_bloques\" no está definido. Puede elegir una de las opciones siguientes:\r\n   new_objects",
     "output_type": "error",
     "traceback": [
      "input.fsx (15,30)-(15,37) typecheck error El valor o constructor \"paredes\" no está definido. Puede elegir una de las opciones siguientes:\r\n",
      "   Paredes\r\n",
      "   paredes_inicial\n",
      "input.fsx (19,5)-(19,15) typecheck error El valor o constructor \"new_bolita\" no está definido. Puede elegir una de las opciones siguientes:\r\n",
      "   new_objects\n",
      "input.fsx (19,5)-(19,33) typecheck warning El resultado de esta expresión de igualdad, de tipo \"bool\", se descarta de forma implícita. Considere la posibilidad de usar \"let\" para enlazar el resultado a un nombre, por ejemplo \"let resultado = expresión\".\n",
      "input.fsx (20,5)-(20,21) typecheck error El valor o constructor \"bloque_eliminado\" no está definido. Puede elegir una de las opciones siguientes:\r\n",
      "   bloques\r\n",
      "   Bloque\n",
      "input.fsx (20,5)-(20,39) typecheck warning El resultado de esta expresión de igualdad, de tipo \"bool\", se descarta de forma implícita. Considere la posibilidad de usar \"let\" para enlazar el resultado a un nombre, por ejemplo \"let resultado = expresión\".\n",
      "input.fsx (21,5)-(21,20) typecheck error El valor o constructor \"eliminar_bloque\" no está definido.\n",
      "input.fsx (27,14)-(27,25) typecheck error El valor o constructor \"new_bolita4\" no está definido. Puede elegir una de las opciones siguientes:\r\n",
      "   new_barra\n",
      "input.fsx (27,26)-(27,37) typecheck error El valor o constructor \"new_bloques\" no está definido. Puede elegir una de las opciones siguientes:\r\n",
      "   new_objects"
     ]
    }
   ],
   "source": [
    "\n",
    "\n",
    "let bolita:Bolita = condicion_inicial_bolita\n",
    "let bloques:Bloque List = condicion_inicial_bloques\n",
    "let barra:Barra = condicion_inicial_barra\n",
    "let paredes:Paredes = condicion_inicial_paredes\n",
    "\n",
    "let dt = 1e-3\n",
    "\n",
    "let mutable terminar_juego = false\n",
    "\n",
    "while terminar_juego = false do\n",
    "\n",
    "    let new_objects = \n",
    "        actualiza_bolita bolita\n",
    "        |> Interaccion_pared paredes\n",
    "        |> Interaccion_barra barra\n",
    "        |> Interaccion_bloques bloques\n",
    "\n",
    "    new_bolita = fst new_objects\n",
    "    bloque_eliminado = snd new_objects\n",
    "    eliminar_bloque bloques bloque_eliminado\n",
    "\n",
    "\n",
    "    //Actualizamos la barra\n",
    "    let new_barra:Barra = InputBarra barra\n",
    "\n",
    "    interfaz new_bolita4 new_bloques new_barra\n",
    "\n",
    "    System.Threading.Thread.Sleep(10)\n",
    "\n",
    "\n"
   ]
  },
  {
   "cell_type": "code",
   "execution_count": 35,
   "metadata": {
    "dotnet_interactive": {
     "language": "fsharp"
    },
    "polyglot_notebook": {
     "kernelName": "fsharp"
    },
    "vscode": {
     "languageId": "polyglot-notebook"
    }
   },
   "outputs": [],
   "source": []
  }
 ],
 "metadata": {
  "kernelspec": {
   "display_name": ".NET (C#)",
   "language": "C#",
   "name": ".net-csharp"
  },
  "language_info": {
   "name": "python"
  },
  "orig_nbformat": 4,
  "polyglot_notebook": {
   "kernelInfo": {
    "defaultKernelName": "csharp",
    "items": [
     {
      "aliases": [],
      "name": "csharp"
     }
    ]
   }
  }
 },
 "nbformat": 4,
 "nbformat_minor": 2
}
