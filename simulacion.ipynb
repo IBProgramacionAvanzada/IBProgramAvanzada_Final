{
 "cells": [
  {
   "attachments": {},
   "cell_type": "markdown",
   "metadata": {},
   "source": [
    "# Simulación\n",
    "Dada la complejidad, los trabajadores de la empresesa decidieron desarrollar parte de su código en la plataforma \"Notebook de python\""
   ]
  },
  {
   "cell_type": "code",
   "execution_count": 25,
   "metadata": {
    "dotnet_interactive": {
     "language": "fsharp"
    },
    "polyglot_notebook": {
     "kernelName": "fsharp"
    },
    "vscode": {
     "languageId": "polyglot-notebook"
    }
   },
   "outputs": [],
   "source": [
    "type Bolita = \n",
    "    {\n",
    "        x: float\n",
    "        y: float\n",
    "        vx: float\n",
    "        vy: float\n",
    "    }\n",
    "\n",
    "\n",
    "type Bloque = \n",
    "    {\n",
    "        x: float // Posición x de esquina inferior izquierda\n",
    "        y: float // Posición y de esquina inferior izquierda\n",
    "        Lx: float\n",
    "        Ly: float\n",
    "    }\n"
   ]
  },
  {
   "cell_type": "code",
   "execution_count": 26,
   "metadata": {
    "dotnet_interactive": {
     "language": "fsharp"
    },
    "polyglot_notebook": {
     "kernelName": "fsharp"
    },
    "vscode": {
     "languageId": "polyglot-notebook"
    }
   },
   "outputs": [],
   "source": [
    "let condicion_inicial_bolita = \n",
    "    let bolita:Bolita = {\n",
    "        x = 1.\n",
    "        y = 1.\n",
    "        vx = 0.\n",
    "        vy = 1.\n",
    "    }\n",
    "    bolita\n",
    "\n",
    "\n",
    "\n",
    "let condicion_inicial_bloques =\n",
    "    let bloque:Bloque = {\n",
    "        x = 0.\n",
    "        y = 0.\n",
    "        Lx = 10.\n",
    "        Ly = 10.\n",
    "    }\n",
    "    [bloque;bloque] \n",
    "\n",
    "let eliminar_bloque (bloques:Bloque list) (bloque:Bloque) =\n",
    "    bloques\n",
    "\n",
    "let actualiza_bolita (bolita:Bolita) (dt:float) =\n",
    "    bolita"
   ]
  },
  {
   "cell_type": "code",
   "execution_count": 27,
   "metadata": {
    "dotnet_interactive": {
     "language": "fsharp"
    },
    "polyglot_notebook": {
     "kernelName": "fsharp"
    },
    "vscode": {
     "languageId": "polyglot-notebook"
    }
   },
   "outputs": [],
   "source": [
    "//Paredes.fs\n",
    "\n",
    "\n",
    "type Paredes =\n",
    "    {\n",
    "        Left_x: float\n",
    "        Down_y: float\n",
    "        Right_x: float\n",
    "        Up_y: float\n",
    "    }\n",
    "\n",
    "let paredes_inicial:Paredes =\n",
    "    {   \n",
    "        Left_x = 0.\n",
    "        Down_y = 0.\n",
    "        Right_x = 100.\n",
    "        Up_y = 100.\n",
    "    }\n",
    "\n",
    "\n",
    "let condicion_inicial_paredes = \n",
    "    paredes_inicial"
   ]
  },
  {
   "cell_type": "code",
   "execution_count": 28,
   "metadata": {
    "dotnet_interactive": {
     "language": "fsharp"
    },
    "polyglot_notebook": {
     "kernelName": "fsharp"
    },
    "vscode": {
     "languageId": "polyglot-notebook"
    }
   },
   "outputs": [],
   "source": [
    "//Barrita.fs\n",
    "\n",
    "type Barra = \n",
    "    {\n",
    "        x: float\n",
    "        y: float\n",
    "        L: float\n",
    "    }\n",
    "\n",
    "type MovimientoBarra = \n",
    "    | Izquierda\n",
    "    | Derecha\n",
    "    | Ninguno\n",
    "\n",
    "let barra_inicial:Barra = \n",
    "    {\n",
    "        x = 50.0\n",
    "        y = 1.\n",
    "        L = 5.\n",
    "    }\n",
    "\n",
    "let condicion_inicial_barra =\n",
    "    barra_inicial\n",
    "\n",
    "let actualizo_barra (barra:Barra) (movimiento:MovimientoBarra) (dx_barra:float) =\n",
    "    match movimiento with\n",
    "    | Izquierda -> {barra with x = barra.x - dx_barra}\n",
    "    | Derecha -> {barra with x = barra.x + dx_barra}\n",
    "    | Ninguno -> barra\n",
    "\n",
    "    \n"
   ]
  },
  {
   "cell_type": "code",
   "execution_count": 29,
   "metadata": {
    "dotnet_interactive": {
     "language": "fsharp"
    },
    "polyglot_notebook": {
     "kernelName": "fsharp"
    },
    "vscode": {
     "languageId": "polyglot-notebook"
    }
   },
   "outputs": [],
   "source": [
    "//Interacciones.fs\n",
    "\n",
    "let Interaccion_pared (paredes:Paredes) (bolita:Bolita) =\n",
    "    match bolita with\n",
    "    | bolita when bolita.x <= paredes.Left_x -> {bolita with vx = -bolita.vx}\n",
    "    | bolita when bolita.x >= paredes.Right_x -> {bolita with vx = -bolita.vx}\n",
    "    | bolita when bolita.y >= paredes.Up_y -> {bolita with vy = -bolita.vy}\n",
    "    | bolita when bolita.y <= paredes.Down_y -> bolita\n",
    "    | _ -> bolita\n",
    "\n",
    "let Interaccion_barra (barra:Barra) (bolita:Bolita) =\n",
    "    if bolita.y <= barra.y && bolita.x >= barra.x && bolita.x <= barra.x + barra.L then\n",
    "        {bolita with vy = -bolita.vy}\n",
    "    else \n",
    "        bolita\n",
    "\n",
    "type Bloque_eliminado =\n",
    "    | Eliminado of Bloque\n",
    "    | NoEliminado\n",
    "\n",
    "type Choque_con_bloque = \n",
    "    | Vertical\n",
    "    | Horizontal\n",
    "\n",
    "let choca_bloque (bolita:Bolita) (bloque:Bloque) = \n",
    "    bolita.y <= bloque.y + bloque.Ly && bolita.y >= bloque.y && bolita.x >= bloque.x && bolita.x <= bloque.x + bloque.Lx\n",
    "\n",
    "let Tipo_choque (bolita:Bolita) (bloque:Bloque) =\n",
    "    let distancias_a_bloque = [bolita.y - bloque.y; bloque.y + bloque.Ly - bolita.y; bolita.x - bloque.x; bloque.x + bloque.Lx - bolita.x]\n",
    "    let minimo = List.min distancias_a_bloque\n",
    "    if minimo = bolita.y - bloque.y || minimo = bloque.y + bloque.Ly - bolita.y then\n",
    "        Vertical\n",
    "    else\n",
    "        Horizontal\n",
    "        \n",
    "let Interaccion_bloques (bloques: Bloque List) (bolita: Bolita) =\n",
    "\n",
    "    let rec Iteracion_sobre_bloques (bloques: Bloque List) (bolita: Bolita) =\n",
    "        match bloques with\n",
    "        | [] -> (bolita, Bloque_eliminado.NoEliminado)\n",
    "        | bloque::bloques -> \n",
    "            if choca_bloque bolita bloque then\n",
    "                let tipo_choque = Tipo_choque bolita bloque\n",
    "                match tipo_choque with\n",
    "                    | Vertical -> ({bolita with vy = -bolita.vy}, Bloque_eliminado.Eliminado bloque)\n",
    "                    | Horizontal -> ({bolita with vx = -bolita.vx}, Bloque_eliminado.Eliminado bloque)\n",
    "            else\n",
    "                Iteracion_sobre_bloques bloques bolita\n",
    "\n",
    "    Iteracion_sobre_bloques bloques bolita\n",
    "\n"
   ]
  },
  {
   "cell_type": "code",
   "execution_count": 30,
   "metadata": {
    "dotnet_interactive": {
     "language": "fsharp"
    },
    "polyglot_notebook": {
     "kernelName": "fsharp"
    },
    "vscode": {
     "languageId": "polyglot-notebook"
    }
   },
   "outputs": [],
   "source": [
    "//End\n",
    "\n",
    "let Bolita_escapa (bolita:Bolita) (pared:Paredes) : bool = \n",
    "    bolita.y < pared.Down_y\n",
    "\n",
    "let Bloques_vacios (bloques:Bloque List) : bool =\n",
    "    bloques = []\n",
    "\n",
    "let termina_juego (bolita:Bolita) (pared:Paredes) (bloques:Bloque List) :bool =\n",
    "    Bolita_escapa bolita pared || Bloques_vacios bloques\n",
    "    "
   ]
  },
  {
   "cell_type": "code",
   "execution_count": 31,
   "metadata": {
    "dotnet_interactive": {
     "language": "fsharp"
    },
    "polyglot_notebook": {
     "kernelName": "fsharp"
    },
    "vscode": {
     "languageId": "polyglot-notebook"
    }
   },
   "outputs": [],
   "source": [
    "let interfaz (bolita:Bolita) (bloques:Bloque) (barra:Barra) =\n",
    "    //Print sofisticado\n",
    "\n",
    "    ()"
   ]
  },
  {
   "cell_type": "code",
   "execution_count": 32,
   "metadata": {
    "dotnet_interactive": {
     "language": "fsharp"
    },
    "polyglot_notebook": {
     "kernelName": "fsharp"
    },
    "vscode": {
     "languageId": "polyglot-notebook"
    }
   },
   "outputs": [],
   "source": [
    "let avanzo_dt (bolita:Bolita) (bloques:Bloque List) (barra:Barra) (paredes:Paredes) (movimiento:MovimientoBarra) (dt:float) (dx_barra:float)= \n",
    "    let new_objects: Bolita * Bloque_eliminado = \n",
    "        actualiza_bolita bolita dt\n",
    "        |> Interaccion_pared paredes\n",
    "        |> Interaccion_barra barra\n",
    "        |> Interaccion_bloques bloques\n",
    "\n",
    "    let new_bolita: Bolita = fst new_objects\n",
    "    let bloque_eliminado: Bloque_eliminado = snd new_objects\n",
    "    let new_bloques: Bloque List = \n",
    "        match bloque_eliminado with\n",
    "            | Bloque_eliminado.Eliminado bloque -> \n",
    "                eliminar_bloque bloques bloque\n",
    "            |_ ->\n",
    "                bloques\n",
    "\n",
    "    let new_barra:Barra = actualizo_barra barra movimiento dx_barra\n",
    "    let terminar_juego:bool = termina_juego new_bolita paredes new_bloques\n",
    "\n",
    "    (new_bolita, new_bloques, new_barra, terminar_juego)"
   ]
  },
  {
   "cell_type": "code",
   "execution_count": 33,
   "metadata": {
    "dotnet_interactive": {
     "language": "fsharp"
    },
    "polyglot_notebook": {
     "kernelName": "fsharp"
    },
    "vscode": {
     "languageId": "polyglot-notebook"
    }
   },
   "outputs": [
    {
     "ename": "Error",
     "evalue": "input.fsx (13,1)-(13,4) parse error El bloque que sigue a este objeto 'let' está sin finalizar. Cada bloque de código es una expresión y debe tener un resultado. 'let' no puede ser el elemento de código final en un bloque. Considere la posibilidad de asignar a este bloque un resultado explícito.",
     "output_type": "error",
     "traceback": [
      "input.fsx (13,1)-(13,4) parse error El bloque que sigue a este objeto 'let' está sin finalizar. Cada bloque de código es una expresión y debe tener un resultado. 'let' no puede ser el elemento de código final en un bloque. Considere la posibilidad de asignar a este bloque un resultado explícito."
     ]
    }
   ],
   "source": [
    "let bolita:Bolita = condicion_inicial_bolita\n",
    "let bloques:Bloque List = condicion_inicial_bloques\n",
    "let barra:Barra = condicion_inicial_barra\n",
    "let paredes:Paredes = condicion_inicial_paredes\n",
    "\n",
    "let dt = 1e-3\n",
    "let vx_barra = 1e-2\n",
    "\n",
    "let mutable terminar_juego = false\n",
    "\n",
    "while terminar_juego = false do\n",
    "\n",
    "let rec loop_temporal (bolita:Bolita) (bloques:Bloque List) (barra:Barra) (paredes:Paredes) (terminar_juego:bool) = \n",
    "\n",
    "    let new_objects: Bolita * Bloque_eliminado = \n",
    "        actualiza_bolita bolita dt\n",
    "        |> Interaccion_pared paredes\n",
    "        |> Interaccion_barra barra\n",
    "        |> Interaccion_bloques bloques\n",
    "\n",
    "    let new_bolita: Bolita = fst new_objects\n",
    "    let bloque_eliminado: Bloque_eliminado = snd new_objects\n",
    "    let new_bloques: Bloque List = \n",
    "        match bloque_eliminado with\n",
    "            | Bloque_eliminado.Eliminado bloque -> \n",
    "                eliminar_bloque bloques bloque\n",
    "            |_ ->\n",
    "                bloques\n",
    "\n",
    "\n",
    "    //Actualizamos la barra\n",
    "    \n",
    "    let new_barra:Barra = actualizo_barra barra movimiento vx_barra dt\n",
    "\n",
    "    // interfaz new_bolita4 new_bloques new_barra\n",
    "\n",
    "    let terminar_juego:bool = termina_juego new_bolita paredes new_bloques\n",
    "\n",
    "    if terminar_juego = false then\n",
    "        loop_temporal new_bolita new_bloques new_barra paredes terminar_juego\n",
    "    else\n",
    "        terminar_juego\n",
    "\n",
    "        \n",
    "    System.Threading.Thread.Sleep(10)\n",
    "\n",
    "\n"
   ]
  },
  {
   "cell_type": "code",
   "execution_count": 34,
   "metadata": {
    "dotnet_interactive": {
     "language": "fsharp"
    },
    "polyglot_notebook": {
     "kernelName": "fsharp"
    },
    "vscode": {
     "languageId": "polyglot-notebook"
    }
   },
   "outputs": [],
   "source": [
    "let assert_equal (expected) (actual) = \n",
    "    if expected=actual then \n",
    "        printfn \"Pasó el test\" \n",
    "    else \n",
    "        printfn \"Error en el test\""
   ]
  },
  {
   "cell_type": "code",
   "execution_count": 35,
   "metadata": {
    "dotnet_interactive": {
     "language": "fsharp"
    },
    "polyglot_notebook": {
     "kernelName": "fsharp"
    },
    "vscode": {
     "languageId": "polyglot-notebook"
    }
   },
   "outputs": [
    {
     "name": "stdout",
     "output_type": "stream",
     "text": [
      "Pasó el test\n",
      "Pasó el test\n",
      "Pasó el test\n"
     ]
    }
   ],
   "source": [
    "//Test de Barra\n",
    "\n",
    "\n",
    "let Test_actualizo_barra =\n",
    "\n",
    "    let barra:Barra = {x = 50.; y = 1.; L = 5.}\n",
    "\n",
    "    let movimiento1:MovimientoBarra = Izquierda\n",
    "    let movimiento2:MovimientoBarra = Derecha\n",
    "    let movimiento3:MovimientoBarra = Ninguno\n",
    "    \n",
    "    let dx_barra = 1\n",
    "\n",
    "    let barra_after1:Barra = {x = 49.0; y = 1.; L = 5.}\n",
    "    let barra_after2:Barra =  {x = 51.0; y = 1.; L = 5.}\n",
    "    let barra_after3:Barra = barra\n",
    "\n",
    "    assert_equal barra_after1 (actualizo_barra barra movimiento1 dx_barra)\n",
    "    assert_equal barra_after2 (actualizo_barra barra movimiento2 dx_barra)\n",
    "    assert_equal barra_after3 (actualizo_barra barra movimiento3 dx_barra)\n",
    "    \n"
   ]
  },
  {
   "cell_type": "code",
   "execution_count": 36,
   "metadata": {
    "dotnet_interactive": {
     "language": "fsharp"
    },
    "polyglot_notebook": {
     "kernelName": "fsharp"
    },
    "vscode": {
     "languageId": "polyglot-notebook"
    }
   },
   "outputs": [
    {
     "name": "stdout",
     "output_type": "stream",
     "text": [
      "Pasó el test\n",
      "Pasó el test\n",
      "Pasó el test\n",
      "Pasó el test\n",
      "Pasó el test\n",
      "Pasó el test\n",
      "Pasó el test\n",
      "Pasó el test\n",
      "Pasó el test\n",
      "Pasó el test\n",
      "Pasó el test\n",
      "Pasó el test\n",
      "Pasó el test\n",
      "Pasó el test\n",
      "Pasó el test\n",
      "Pasó el test\n",
      "Pasó el test\n",
      "Pasó el test\n",
      "Pasó el test\n",
      "Pasó el test\n"
     ]
    }
   ],
   "source": [
    "//Test de interacciones\n",
    "\n",
    "\n",
    "\n",
    "let Test_interaccion_pared =\n",
    "    \n",
    "    let paredes:Paredes = {Up_y = 100.; Down_y = 0.; Left_x = 0.; Right_x = 100.}\n",
    "\n",
    "    assert_equal {x = 50.; y = 50.; vx = 1.; vy = 1.} (Interaccion_pared paredes {x = 50.; y = 50.; vx = 1.; vy = 1.}) //no hay choque\n",
    "    assert_equal {x=50.; y = 50.; vx = 100.; vy = 100.} (Interaccion_pared paredes {x=50.; y = 50.; vx = 100.; vy = 100.}) //no hay choque\n",
    "    assert_equal {x = -1.; y = 50.; vx = 1.; vy = 10.} (Interaccion_pared paredes {x = -1.; y = 50.; vx = -1. ; vy = 10.}) //choque con pared izquierda\n",
    "    assert_equal {x=101; y = 50; vx = -1; vy = 20} (Interaccion_pared paredes {x=101; y = 50; vx = 1; vy = 20}) //choque con pared derecha\n",
    "    assert_equal {x=50; y = -1; vx = 1; vy = -10} (Interaccion_pared paredes {x=50; y = -1; vx = 1; vy = -10}) //choque con pared de abajo\n",
    "    assert_equal {x=50; y = 101; vx = 20; vy = -1} (Interaccion_pared paredes {x=50; y = 101; vx = 20; vy = 1}) //choque con pared de arriba\n",
    "    //No se testea la posibilidad de que esté en una esquina porque numéricamente si el dt es suficientemente pequeño nunca debería darse la posibilidad\n",
    "    \n",
    "\n",
    "let Test_interaccion_barra =\n",
    "\n",
    "    let barra:Barra = {x = 50.; y = 1.; L = 5.}\n",
    "\n",
    "    assert_equal {x = 50.; y = 50.; vx = 1.; vy = 1.} (Interaccion_barra barra {x = 50.; y = 50.; vx = 1.; vy = 1.}) //no hay choque\n",
    "    assert_equal {x = 10.; y = 0.5; vx = 1.; vy = 1.} (Interaccion_barra barra {x = 10.; y = 0.5; vx = 1.; vy = 1.}) //bolita con y debajo de la barra pero x lejos\n",
    "    assert_equal {x = 51.; y = 1.1; vx = 1.; vy = 1.} (Interaccion_barra barra {x = 51.; y = 1.1; vx = 1.; vy = 1.}) //bolita arriba de la barra\n",
    "    assert_equal {x = 51.; y = 0.95; vx = 1.; vy = 1.} (Interaccion_barra barra {x = 51.; y = 0.95; vx = 1.; vy = -1.}) //choque\n",
    "\n",
    "\n",
    "\n",
    "let Test_choca_bloque =\n",
    "\n",
    "    let bloque:Bloque = {x = 0.; y = 0.; Lx = 5.; Ly = 5.}\n",
    "\n",
    "    assert_equal false (choca_bloque {x = 50.; y = 50.; vx = 1.; vy = 1.} bloque) //no hay choque\n",
    "    assert_equal true (choca_bloque {x = 1.; y = 0.5; vx = 1.; vy = 1.} bloque) //choque\n",
    "    assert_equal true (choca_bloque {x = 1.; y = 0.5; vx = 10.; vy = 100.} bloque) //choque con velocidad distinta\n",
    "\n",
    "let Test_tipo_choque = \n",
    "\n",
    "    let bloque:Bloque = {x = 0.; y = 0.; Lx = 5.; Ly = 5.}\n",
    "\n",
    "    assert_equal Choque_con_bloque.Vertical (Tipo_choque {x = 4.9; y = 5.; vx = -1.; vy = -1.} bloque) //choque vertical\n",
    "    assert_equal Choque_con_bloque.Horizontal (Tipo_choque {x = 4.9; y = 2.5; vx = -1.; vy = 1.} bloque) //choque horizontal\n",
    "    assert_equal Choque_con_bloque.Horizontal (Tipo_choque {x = 4.9; y = 2.5; vx = -10.; vy = 48.} bloque) //choque horizontal con distinta velocidad\n",
    "\n",
    "\n",
    "let Test_Interaccion_bloques =\n",
    "    let bloque1:Bloque = {x = 0.; y = 0.; Lx = 5.; Ly = 5.}\n",
    "    let bloque2:Bloque = {x = 5.; y = 0.; Lx = 5.; Ly = 5.}\n",
    "    let bloques: Bloque List = [bloque1; bloque2]\n",
    "\n",
    "    assert_equal ({x = 50.; y = 50.; vx = 1.; vy = 1.}, Bloque_eliminado.NoEliminado) (Interaccion_bloques bloques {x = 50.; y = 50.; vx = 1.; vy = 1.}) //no hay choque con ningún bloque\n",
    "    assert_equal ({x = 4.9; y = 4.9; vx = 0.; vy = 1.}, Bloque_eliminado.Eliminado bloque1) (Interaccion_bloques bloques {x = 4.9; y = 4.9; vx = 0.; vy = -1.}) //choca en el bloque 1\n",
    "    assert_equal ({x = 8.; y = 4.9; vx = 0.; vy = 1.}, Bloque_eliminado.Eliminado bloque2) (Interaccion_bloques bloques {x = 8.; y = 4.9; vx = 0.; vy = -1.}) //choca en el bloque 2\n",
    "    assert_equal ({x = 8.; y = 4.9; vx = 140.; vy = 10.}, Bloque_eliminado.Eliminado bloque2) (Interaccion_bloques bloques {x = 8.; y = 4.9; vx = 140.; vy = -10.}) //choca en el bloque 2 con distinta velocidad\n"
   ]
  }
 ],
 "metadata": {
  "kernelspec": {
   "display_name": ".NET (C#)",
   "language": "C#",
   "name": ".net-csharp"
  },
  "language_info": {
   "name": "python"
  },
  "orig_nbformat": 4,
  "polyglot_notebook": {
   "kernelInfo": {
    "defaultKernelName": "csharp",
    "items": [
     {
      "aliases": [],
      "name": "csharp"
     }
    ]
   }
  }
 },
 "nbformat": 4,
 "nbformat_minor": 2
}
