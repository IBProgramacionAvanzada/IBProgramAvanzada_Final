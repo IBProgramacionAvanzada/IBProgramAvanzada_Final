{
 "cells": [
  {
   "attachments": {},
   "cell_type": "markdown",
   "metadata": {},
   "source": [
    "# Simulación\n",
    "Dada la complejidad, los trabajadores de la empresesa decidieron desarrollar parte de su código en la plataforma \"Notebook de python\""
   ]
  },
  {
   "cell_type": "code",
   "execution_count": 36,
   "metadata": {
    "dotnet_interactive": {
     "language": "fsharp"
    },
    "polyglot_notebook": {
     "kernelName": "fsharp"
    },
    "vscode": {
     "languageId": "polyglot-notebook"
    }
   },
   "outputs": [],
   "source": [
    "type Bolita = \n",
    "    {\n",
    "        x: float\n",
    "        y: float\n",
    "        vx: float\n",
    "        vy: float\n",
    "    }\n",
    "\n",
    "\n",
    "type Bloque = \n",
    "    {\n",
    "        x: float // Posición x de esquina inferior izquierda\n",
    "        y: float // Posición y de esquina inferior izquierda\n",
    "        Lx: float\n",
    "        Ly: float\n",
    "    }\n"
   ]
  },
  {
   "cell_type": "code",
   "execution_count": 37,
   "metadata": {
    "dotnet_interactive": {
     "language": "fsharp"
    },
    "polyglot_notebook": {
     "kernelName": "fsharp"
    },
    "vscode": {
     "languageId": "polyglot-notebook"
    }
   },
   "outputs": [],
   "source": [
    "let condicion_inicial_bolita = \n",
    "    let bolita:Bolita = {\n",
    "        x = 1.\n",
    "        y = 1.\n",
    "        vx = 0.\n",
    "        vy = 1.\n",
    "    }\n",
    "    bolita\n",
    "\n",
    "\n",
    "\n",
    "let condicion_inicial_bloques =\n",
    "    let bloque:Bloque = {\n",
    "        x = 0.\n",
    "        y = 0.\n",
    "        Lx = 10.\n",
    "        Ly = 10.\n",
    "    }\n",
    "    [bloque;bloque] \n",
    "\n",
    "let eliminar_bloque (bloques:Bloque list) (bloque:Bloque) =\n",
    "    bloques\n",
    "\n",
    "let actualiza_bolita (bolita:Bolita) =\n",
    "    let dt = 1e-3\n",
    "    let newBolita:Bolita = {\n",
    "        x = bolita.x + bolita.vx * dt\n",
    "        y = bolita.y + bolita.vy * dt\n",
    "        vx = bolita.vx\n",
    "        vy = bolita.vy\n",
    "    }\n",
    "    newBolita"
   ]
  },
  {
   "cell_type": "code",
   "execution_count": 38,
   "metadata": {
    "dotnet_interactive": {
     "language": "fsharp"
    },
    "polyglot_notebook": {
     "kernelName": "fsharp"
    },
    "vscode": {
     "languageId": "polyglot-notebook"
    }
   },
   "outputs": [],
   "source": [
    "//Paredes.fs\n",
    "\n",
    "\n",
    "type Paredes =\n",
    "    {\n",
    "        Left_x: float\n",
    "        Down_y: float\n",
    "        Right_x: float\n",
    "        Up_y: float\n",
    "    }\n",
    "\n",
    "let paredes_inicial:Paredes =\n",
    "    {   \n",
    "        Left_x = 0.\n",
    "        Down_y = 0.\n",
    "        Right_x = 100.\n",
    "        Up_y = 100.\n",
    "    }\n",
    "\n",
    "\n",
    "let condicion_inicial_paredes = \n",
    "    paredes_inicial"
   ]
  },
  {
   "cell_type": "code",
   "execution_count": 39,
   "metadata": {
    "dotnet_interactive": {
     "language": "fsharp"
    },
    "polyglot_notebook": {
     "kernelName": "fsharp"
    },
    "vscode": {
     "languageId": "polyglot-notebook"
    }
   },
   "outputs": [],
   "source": [
    "//User_input\n",
    "open System\n",
    "\n",
    "// let leer_teclado () = \n",
    "//     if Console.KeyAvailable then\n",
    "//         let key = Console.ReadKey(true).Key\n",
    "//         match key with\n",
    "//         | ConsoleKey.LeftArrow -> printfn \"Has presionado <-\"\n",
    "//         | ConsoleKey.RightArrow -> printfn \"Has presionado ->\"\n",
    "//         | _ -> printfn \"Sin efecto %A\" key\n",
    "//     else\n",
    "//         () // printfn \"No presionaste ninguna letra\""
   ]
  },
  {
   "cell_type": "code",
   "execution_count": 40,
   "metadata": {
    "dotnet_interactive": {
     "language": "fsharp"
    },
    "polyglot_notebook": {
     "kernelName": "fsharp"
    },
    "vscode": {
     "languageId": "polyglot-notebook"
    }
   },
   "outputs": [],
   "source": [
    "//Barrita.fs\n",
    "\n",
    "type Barra = \n",
    "    {\n",
    "        x: float\n",
    "        y: float\n",
    "        L: float\n",
    "    }\n",
    "\n",
    "type MovimientoBarra = \n",
    "    | Izquierda\n",
    "    | Derecha\n",
    "\n",
    "let barra_inicial:Barra = \n",
    "    {\n",
    "        x = 50.0\n",
    "        y = 1.\n",
    "        L = 5.\n",
    "    }\n",
    "\n",
    "let condicion_inicial_barra =\n",
    "    barra_inicial\n",
    "\n",
    "let actualizo_barra (barra:Barra) (movimiento:MovimientoBarra) (vx_barra:float) (dt:float) =\n",
    "    if movimiento = MovimientoBarra.Izquierda then\n",
    "        {barra with x = barra.x - vx_barra*dt}\n",
    "    else\n",
    "        {barra with x = barra.x + vx_barra*dt}\n",
    "\n",
    "let movimiento_barra (barra:Barra) (vx_barra:float) (dt:float)=\n",
    "    if Console.KeyAvailable then\n",
    "        let key = Console.ReadKey(true).Key\n",
    "        match key with\n",
    "        | ConsoleKey.LeftArrow -> actualizo_barra barra MovimientoBarra.Izquierda vx_barra dt \n",
    "        | ConsoleKey.RightArrow -> actualizo_barra barra MovimientoBarra.Derecha vx_barra dt\n",
    "        | _ -> barra\n",
    "    else\n",
    "        barra"
   ]
  },
  {
   "cell_type": "code",
   "execution_count": 41,
   "metadata": {
    "dotnet_interactive": {
     "language": "fsharp"
    },
    "polyglot_notebook": {
     "kernelName": "fsharp"
    },
    "vscode": {
     "languageId": "polyglot-notebook"
    }
   },
   "outputs": [],
   "source": [
    "//Interacciones.fs\n",
    "\n",
    "let Interaccion_pared (paredes:Paredes) (bolita:Bolita) =\n",
    "    match bolita with\n",
    "    | bolita when bolita.x <= paredes.Left_x -> {bolita with vx = -bolita.vx}\n",
    "    | bolita when bolita.x >= paredes.Right_x -> {bolita with vx = -bolita.vx}\n",
    "    | bolita when bolita.y >= paredes.Up_y -> {bolita with vy = -bolita.vy}\n",
    "    | bolita when bolita.y <= paredes.Down_y -> bolita\n",
    "    | _ -> bolita\n",
    "\n",
    "let Interaccion_barra (barra:Barra) (bolita:Bolita) =\n",
    "    if bolita.y <= barra.y && bolita.x >= barra.x && bolita.x <= barra.x + barra.L then\n",
    "        {bolita with vy = -bolita.vy}\n",
    "    else \n",
    "        bolita\n",
    "\n",
    "type Bloque_eliminado =\n",
    "    | Eliminado of Bloque\n",
    "    | NoEliminado\n",
    "\n",
    "type Choque_con_bloque = \n",
    "    | Vertical\n",
    "    | Horizontal\n",
    "\n",
    "let choca_bloque (bolita:Bolita) (bloque:Bloque) = \n",
    "    bolita.y <= bloque.y + bloque.Ly && bolita.y >= bloque.y && bolita.x >= bloque.x && bolita.x <= bloque.x + bloque.Lx\n",
    "\n",
    "let Tipo_choque (bolita:Bolita) (bloque:Bloque) =\n",
    "    let distancias_a_bloque = [bolita.y - bloque.y; bloque.y + bloque.Ly - bolita.y; bolita.x - bloque.x; bloque.x + bloque.Lx - bolita.x]\n",
    "    let minimo = List.min distancias_a_bloque\n",
    "    if minimo = bolita.y - bloque.y || minimo = bloque.y + bloque.Ly - bolita.y then\n",
    "        Vertical\n",
    "    else\n",
    "        Horizontal\n",
    "        \n",
    "let Interaccion_bloques (bloques: Bloque List) (bolita: Bolita) =\n",
    "\n",
    "    let rec Iteracion_sobre_bloques (bloques: Bloque List) (bolita: Bolita) =\n",
    "        match bloques with\n",
    "        | [] -> (bolita, Bloque_eliminado.NoEliminado)\n",
    "        | bloque::bloques -> \n",
    "            if choca_bloque bolita bloque then\n",
    "                let tipo_choque = Tipo_choque bolita bloque\n",
    "                match tipo_choque with\n",
    "                    | Vertical -> ({bolita with vy = -bolita.vy}, Bloque_eliminado.Eliminado bloque)\n",
    "                    | Horizontal -> ({bolita with vx = -bolita.vx}, Bloque_eliminado.Eliminado bloque)\n",
    "            else\n",
    "                Iteracion_sobre_bloques bloques bolita\n",
    "\n",
    "    Iteracion_sobre_bloques bloques bolita\n",
    "\n"
   ]
  },
  {
   "cell_type": "code",
   "execution_count": 42,
   "metadata": {
    "dotnet_interactive": {
     "language": "fsharp"
    },
    "polyglot_notebook": {
     "kernelName": "fsharp"
    },
    "vscode": {
     "languageId": "polyglot-notebook"
    }
   },
   "outputs": [],
   "source": [
    "//End\n",
    "\n",
    "let Bolita_escapa (bolita:Bolita) (pared:Paredes) : bool = \n",
    "    bolita.y < pared.Down_y\n",
    "\n",
    "let Bloques_vacios (bloques:Bloque List) : bool =\n",
    "    bloques = []\n",
    "\n",
    "let termina_juego (bolita:Bolita) (pared:Paredes) (bloques:Bloque List) :bool =\n",
    "    Bolita_escapa bolita pared || Bloques_vacios bloques\n",
    "    "
   ]
  },
  {
   "cell_type": "code",
   "execution_count": 43,
   "metadata": {
    "dotnet_interactive": {
     "language": "fsharp"
    },
    "polyglot_notebook": {
     "kernelName": "fsharp"
    },
    "vscode": {
     "languageId": "polyglot-notebook"
    }
   },
   "outputs": [],
   "source": [
    "\n",
    "let interfaz (bolita:Bolita) (bloques:Bloque) (barra:Barra) =\n",
    "    //Print sofisticado\n",
    "\n",
    "    ()"
   ]
  },
  {
   "cell_type": "code",
   "execution_count": 44,
   "metadata": {
    "dotnet_interactive": {
     "language": "fsharp"
    },
    "polyglot_notebook": {
     "kernelName": "fsharp"
    },
    "vscode": {
     "languageId": "polyglot-notebook"
    }
   },
   "outputs": [
    {
     "ename": "Error",
     "evalue": "input.fsx (33,59)-(33,61) typecheck error El valor o constructor \"dt\" no está definido.",
     "output_type": "error",
     "traceback": [
      "input.fsx (33,59)-(33,61) typecheck error El valor o constructor \"dt\" no está definido."
     ]
    }
   ],
   "source": [
    "\n",
    "\n",
    "let bolita:Bolita = condicion_inicial_bolita\n",
    "let bloques:Bloque List = condicion_inicial_bloques\n",
    "let barra:Barra = condicion_inicial_barra\n",
    "let paredes:Paredes = condicion_inicial_paredes\n",
    "\n",
    "\n",
    "let vx_barra = 1e-2\n",
    "\n",
    "let mutable terminar_juego = false\n",
    "\n",
    "while terminar_juego = false do\n",
    "\n",
    "    let new_objects: Bolita * Bloque_eliminado = \n",
    "        actualiza_bolita bolita\n",
    "        |> Interaccion_pared paredes\n",
    "        |> Interaccion_barra barra\n",
    "        |> Interaccion_bloques bloques\n",
    "\n",
    "    let new_bolita: Bolita = fst new_objects\n",
    "    let bloque_eliminado: Bloque_eliminado = snd new_objects\n",
    "    let new_bloques: Bloque List = \n",
    "        match bloque_eliminado with\n",
    "            | Bloque_eliminado.Eliminado bloque -> \n",
    "                eliminar_bloque bloques bloque\n",
    "            |_ ->\n",
    "                bloques\n",
    "\n",
    "\n",
    "    //Actualizamos la barra\n",
    "    \n",
    "    let new_barra:Barra = movimiento_barra barra vx_barra dt\n",
    "\n",
    "    // interfaz new_bolita4 new_bloques new_barra\n",
    "\n",
    "    terminar_juego <- termina_juego new_bolita paredes new_bloques\n",
    "\n",
    "\n",
    "    System.Threading.Thread.Sleep(10)\n",
    "\n",
    "\n"
   ]
  },
  {
   "attachments": {},
   "cell_type": "markdown",
   "metadata": {},
   "source": [
    "## TEST"
   ]
  },
  {
   "cell_type": "code",
   "execution_count": 45,
   "metadata": {
    "dotnet_interactive": {
     "language": "fsharp"
    },
    "polyglot_notebook": {
     "kernelName": "fsharp"
    },
    "vscode": {
     "languageId": "polyglot-notebook"
    }
   },
   "outputs": [],
   "source": [
    "let assert_equal_actualizaBolita (expected) (actual) = \n",
    "    if expected=actual then \n",
    "        printfn \"Actualizó la bolita correctamente\" \n",
    "    else \n",
    "        printfn \"Error actualizando bolita\"\n"
   ]
  },
  {
   "cell_type": "code",
   "execution_count": 46,
   "metadata": {
    "dotnet_interactive": {
     "language": "fsharp"
    },
    "polyglot_notebook": {
     "kernelName": "fsharp"
    },
    "vscode": {
     "languageId": "polyglot-notebook"
    }
   },
   "outputs": [],
   "source": [
    "//Test actualizaBolita\n",
    "\n",
    "\n",
    "let bolita:Bolita = condicion_inicial_bolita\n",
    "\n",
    "let bolitaActualizada1 = {x = 1.0 ; y = 1.001; vx = 0; vy = 1.0}\n",
    "\n"
   ]
  },
  {
   "cell_type": "code",
   "execution_count": 47,
   "metadata": {
    "dotnet_interactive": {
     "language": "fsharp"
    },
    "polyglot_notebook": {
     "kernelName": "fsharp"
    },
    "vscode": {
     "languageId": "polyglot-notebook"
    }
   },
   "outputs": [
    {
     "name": "stdout",
     "output_type": "stream",
     "text": [
      "Actualizó la bolita correctamente\n"
     ]
    }
   ],
   "source": [
    "assert_equal_actualizaBolita bolitaActualizada1 (actualiza_bolita(bolita))"
   ]
  },
  {
   "cell_type": "code",
   "execution_count": null,
   "metadata": {
    "dotnet_interactive": {
     "language": "fsharp"
    },
    "polyglot_notebook": {
     "kernelName": "fsharp"
    },
    "vscode": {
     "languageId": "polyglot-notebook"
    }
   },
   "outputs": [],
   "source": []
  }
 ],
 "metadata": {
  "kernelspec": {
   "display_name": ".NET (C#)",
   "language": "C#",
   "name": ".net-csharp"
  },
  "language_info": {
   "name": "python"
  },
  "orig_nbformat": 4,
  "polyglot_notebook": {
   "kernelInfo": {
    "defaultKernelName": "csharp",
    "items": [
     {
      "aliases": [],
      "name": "csharp"
     }
    ]
   }
  }
 },
 "nbformat": 4,
 "nbformat_minor": 2
}
